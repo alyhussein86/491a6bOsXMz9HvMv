{
  "nbformat": 4,
  "nbformat_minor": 0,
  "metadata": {
    "colab": {
      "provenance": [],
      "toc_visible": true,
      "include_colab_link": true
    },
    "kernelspec": {
      "name": "python3",
      "display_name": "Python 3"
    }
  },
  "cells": [
    {
      "cell_type": "markdown",
      "metadata": {
        "id": "view-in-github",
        "colab_type": "text"
      },
      "source": [
        "<a href=\"https://colab.research.google.com/github/alyhussein86/491a6bOsXMz9HvMv/blob/main/Term_Deposit_P2.ipynb\" target=\"_parent\"><img src=\"https://colab.research.google.com/assets/colab-badge.svg\" alt=\"Open In Colab\"/></a>"
      ]
    },
    {
      "cell_type": "markdown",
      "metadata": {
        "id": "37puETfgRzzg"
      },
      "source": [
        "# Data Preprocessing Tools"
      ]
    },
    {
      "cell_type": "markdown",
      "metadata": {
        "id": "EoRP98MpR-qj"
      },
      "source": [
        "## Importing the libraries"
      ]
    },
    {
      "cell_type": "code",
      "metadata": {
        "id": "N-qiINBQSK2g"
      },
      "source": [
        "import numpy as np\n",
        "import matplotlib.pyplot as plt\n",
        "import pandas as pd\n",
        "import seaborn as sns\n",
        "from sklearn.compose import make_column_transformer, make_column_selector,ColumnTransformer\n",
        "from sklearn.impute import SimpleImputer\n",
        "from sklearn.preprocessing import LabelEncoder,OneHotEncoder,StandardScaler\n",
        "from sklearn.utils import resample\n",
        "from sklearn.model_selection import train_test_split, GridSearchCV, cross_val_score, KFold\n",
        "from sklearn.linear_model import LogisticRegression\n",
        "from sklearn.neighbors import KNeighborsClassifier\n",
        "from sklearn.tree import DecisionTreeClassifier\n",
        "from sklearn.ensemble import RandomForestClassifier,ExtraTreesClassifier\n",
        "from sklearn.svm import SVC\n",
        "from xgboost import XGBClassifier\n",
        "# from pandas.core.base import value_counts\n",
        "from sklearn.dummy import DummyClassifier\n",
        "from sklearn.metrics import accuracy_score, f1_score, confusion_matrix, recall_score\n",
        "# from imblearn.over_sampling import SMOTE"
      ],
      "execution_count": 1,
      "outputs": []
    },
    {
      "cell_type": "markdown",
      "metadata": {
        "id": "RopL7tUZSQkT"
      },
      "source": [
        "## Importing the dataset"
      ]
    },
    {
      "cell_type": "code",
      "metadata": {
        "id": "WwEPNDWySTKm",
        "colab": {
          "base_uri": "https://localhost:8080/"
        },
        "outputId": "b424e57a-d046-47fa-bb47-532d900baa28"
      },
      "source": [
        "dataset = pd.read_csv('term-deposit-marketing-2020.csv')\n",
        "\n",
        "dataset.info()"
      ],
      "execution_count": 2,
      "outputs": [
        {
          "output_type": "stream",
          "name": "stdout",
          "text": [
            "<class 'pandas.core.frame.DataFrame'>\n",
            "RangeIndex: 40000 entries, 0 to 39999\n",
            "Data columns (total 14 columns):\n",
            " #   Column     Non-Null Count  Dtype \n",
            "---  ------     --------------  ----- \n",
            " 0   age        40000 non-null  int64 \n",
            " 1   job        40000 non-null  object\n",
            " 2   marital    40000 non-null  object\n",
            " 3   education  40000 non-null  object\n",
            " 4   default    40000 non-null  object\n",
            " 5   balance    40000 non-null  int64 \n",
            " 6   housing    40000 non-null  object\n",
            " 7   loan       40000 non-null  object\n",
            " 8   contact    40000 non-null  object\n",
            " 9   day        40000 non-null  int64 \n",
            " 10  month      40000 non-null  object\n",
            " 11  duration   40000 non-null  int64 \n",
            " 12  campaign   40000 non-null  int64 \n",
            " 13  y          40000 non-null  object\n",
            "dtypes: int64(5), object(9)\n",
            "memory usage: 4.3+ MB\n"
          ]
        }
      ]
    },
    {
      "cell_type": "markdown",
      "metadata": {
        "id": "CriG6VzVSjcK"
      },
      "source": [
        "## Encoding categorical data"
      ]
    },
    {
      "cell_type": "code",
      "source": [
        "dataset['y'] = dataset['y'].map(lambda x: 0 if x == 'no' else 1)\n",
        "dataset['default'] = dataset['default'].map(lambda x: 0 if x == 'no' else 1)\n",
        "dataset['housing'] = dataset['housing'].map(lambda x: 0 if x == 'no' else 1)\n",
        "dataset['loan'] = dataset['loan'].map(lambda x: 0 if x == 'no' else 1)"
      ],
      "metadata": {
        "id": "4sJkFhS4DO9S"
      },
      "execution_count": 3,
      "outputs": []
    },
    {
      "cell_type": "code",
      "source": [
        "print(dataset.head())\n",
        "\n",
        "print(dataset.info())\n",
        "\n",
        "print(dataset['y'].value_counts())"
      ],
      "metadata": {
        "colab": {
          "base_uri": "https://localhost:8080/"
        },
        "id": "HKGRo5Em9LCI",
        "outputId": "0a133793-c572-4097-c373-9623e034cf31"
      },
      "execution_count": 4,
      "outputs": [
        {
          "output_type": "stream",
          "name": "stdout",
          "text": [
            "   age           job  marital  education  default  balance  housing  loan  \\\n",
            "0   58    management  married   tertiary        0     2143        1     0   \n",
            "1   44    technician   single  secondary        0       29        1     0   \n",
            "2   33  entrepreneur  married  secondary        0        2        1     1   \n",
            "3   47   blue-collar  married    unknown        0     1506        1     0   \n",
            "4   33       unknown   single    unknown        0        1        0     0   \n",
            "\n",
            "   contact  day month  duration  campaign  y  \n",
            "0  unknown    5   may       261         1  0  \n",
            "1  unknown    5   may       151         1  0  \n",
            "2  unknown    5   may        76         1  0  \n",
            "3  unknown    5   may        92         1  0  \n",
            "4  unknown    5   may       198         1  0  \n",
            "<class 'pandas.core.frame.DataFrame'>\n",
            "RangeIndex: 40000 entries, 0 to 39999\n",
            "Data columns (total 14 columns):\n",
            " #   Column     Non-Null Count  Dtype \n",
            "---  ------     --------------  ----- \n",
            " 0   age        40000 non-null  int64 \n",
            " 1   job        40000 non-null  object\n",
            " 2   marital    40000 non-null  object\n",
            " 3   education  40000 non-null  object\n",
            " 4   default    40000 non-null  int64 \n",
            " 5   balance    40000 non-null  int64 \n",
            " 6   housing    40000 non-null  int64 \n",
            " 7   loan       40000 non-null  int64 \n",
            " 8   contact    40000 non-null  object\n",
            " 9   day        40000 non-null  int64 \n",
            " 10  month      40000 non-null  object\n",
            " 11  duration   40000 non-null  int64 \n",
            " 12  campaign   40000 non-null  int64 \n",
            " 13  y          40000 non-null  int64 \n",
            "dtypes: int64(9), object(5)\n",
            "memory usage: 4.3+ MB\n",
            "None\n",
            "0    37104\n",
            "1     2896\n",
            "Name: y, dtype: int64\n"
          ]
        }
      ]
    },
    {
      "cell_type": "code",
      "source": [
        "np.unique(dataset['education'])"
      ],
      "metadata": {
        "colab": {
          "base_uri": "https://localhost:8080/"
        },
        "id": "O7ijbahFxeJy",
        "outputId": "bddc7055-4a5a-4a00-e7d2-02434bad71f6"
      },
      "execution_count": 5,
      "outputs": [
        {
          "output_type": "execute_result",
          "data": {
            "text/plain": [
              "array(['primary', 'secondary', 'tertiary', 'unknown'], dtype=object)"
            ]
          },
          "metadata": {},
          "execution_count": 5
        }
      ]
    },
    {
      "cell_type": "code",
      "source": [
        "categorical_columns_subset = [\n",
        "    \"job\",\n",
        "    \"marital\",\n",
        "    \"education\",\n",
        "    \"contact\",\n",
        "    \"month\"\n",
        "    ]\n",
        "\n",
        "numerical_columns_subset = [\n",
        "    \"age\",\n",
        "    \"default\",\n",
        "    \"balance\",\n",
        "    \"housing\",\n",
        "    \"loan\",\n",
        "    \"day\",\n",
        "    \"duration\",\n",
        "    \"campaign\",\"y\"\n",
        "    ]\n"
      ],
      "metadata": {
        "id": "HZMvtQehgmdB"
      },
      "execution_count": 6,
      "outputs": []
    },
    {
      "cell_type": "code",
      "source": [
        "X = dataset[categorical_columns_subset + numerical_columns_subset]\n",
        "X[categorical_columns_subset] = X[categorical_columns_subset].astype(\"category\")\n",
        "\n",
        "categorical_columns = X.select_dtypes(include=\"category\").columns\n",
        "n_categorical_features = len(categorical_columns)\n",
        "n_numerical_features = X.select_dtypes(include=\"number\").shape[1]\n",
        "\n",
        "print(f\"Number of samples: {X.shape[0]}\")\n",
        "print(f\"Number of features: {X.shape[1]}\")\n",
        "print(f\"Number of categorical features: {n_categorical_features}\")\n",
        "print(f\"Number of numerical features: {n_numerical_features}\")"
      ],
      "metadata": {
        "colab": {
          "base_uri": "https://localhost:8080/"
        },
        "id": "cQwoiUWuhhVy",
        "outputId": "a781b29d-834c-48ff-9b2b-664dafe618d5"
      },
      "execution_count": 7,
      "outputs": [
        {
          "output_type": "stream",
          "name": "stdout",
          "text": [
            "Number of samples: 40000\n",
            "Number of features: 14\n",
            "Number of categorical features: 5\n",
            "Number of numerical features: 9\n"
          ]
        }
      ]
    },
    {
      "cell_type": "code",
      "source": [
        "X.head()"
      ],
      "metadata": {
        "colab": {
          "base_uri": "https://localhost:8080/",
          "height": 0
        },
        "id": "QN-orh4zDRXc",
        "outputId": "538a37bf-6abc-4a97-da67-8fd2a6a27958"
      },
      "execution_count": 8,
      "outputs": [
        {
          "output_type": "execute_result",
          "data": {
            "text/plain": [
              "            job  marital  education  contact month  age  default  balance  \\\n",
              "0    management  married   tertiary  unknown   may   58        0     2143   \n",
              "1    technician   single  secondary  unknown   may   44        0       29   \n",
              "2  entrepreneur  married  secondary  unknown   may   33        0        2   \n",
              "3   blue-collar  married    unknown  unknown   may   47        0     1506   \n",
              "4       unknown   single    unknown  unknown   may   33        0        1   \n",
              "\n",
              "   housing  loan  day  duration  campaign  y  \n",
              "0        1     0    5       261         1  0  \n",
              "1        1     0    5       151         1  0  \n",
              "2        1     1    5        76         1  0  \n",
              "3        1     0    5        92         1  0  \n",
              "4        0     0    5       198         1  0  "
            ],
            "text/html": [
              "\n",
              "  <div id=\"df-82780648-9d7f-475e-b314-8b26c1e4f129\">\n",
              "    <div class=\"colab-df-container\">\n",
              "      <div>\n",
              "<style scoped>\n",
              "    .dataframe tbody tr th:only-of-type {\n",
              "        vertical-align: middle;\n",
              "    }\n",
              "\n",
              "    .dataframe tbody tr th {\n",
              "        vertical-align: top;\n",
              "    }\n",
              "\n",
              "    .dataframe thead th {\n",
              "        text-align: right;\n",
              "    }\n",
              "</style>\n",
              "<table border=\"1\" class=\"dataframe\">\n",
              "  <thead>\n",
              "    <tr style=\"text-align: right;\">\n",
              "      <th></th>\n",
              "      <th>job</th>\n",
              "      <th>marital</th>\n",
              "      <th>education</th>\n",
              "      <th>contact</th>\n",
              "      <th>month</th>\n",
              "      <th>age</th>\n",
              "      <th>default</th>\n",
              "      <th>balance</th>\n",
              "      <th>housing</th>\n",
              "      <th>loan</th>\n",
              "      <th>day</th>\n",
              "      <th>duration</th>\n",
              "      <th>campaign</th>\n",
              "      <th>y</th>\n",
              "    </tr>\n",
              "  </thead>\n",
              "  <tbody>\n",
              "    <tr>\n",
              "      <th>0</th>\n",
              "      <td>management</td>\n",
              "      <td>married</td>\n",
              "      <td>tertiary</td>\n",
              "      <td>unknown</td>\n",
              "      <td>may</td>\n",
              "      <td>58</td>\n",
              "      <td>0</td>\n",
              "      <td>2143</td>\n",
              "      <td>1</td>\n",
              "      <td>0</td>\n",
              "      <td>5</td>\n",
              "      <td>261</td>\n",
              "      <td>1</td>\n",
              "      <td>0</td>\n",
              "    </tr>\n",
              "    <tr>\n",
              "      <th>1</th>\n",
              "      <td>technician</td>\n",
              "      <td>single</td>\n",
              "      <td>secondary</td>\n",
              "      <td>unknown</td>\n",
              "      <td>may</td>\n",
              "      <td>44</td>\n",
              "      <td>0</td>\n",
              "      <td>29</td>\n",
              "      <td>1</td>\n",
              "      <td>0</td>\n",
              "      <td>5</td>\n",
              "      <td>151</td>\n",
              "      <td>1</td>\n",
              "      <td>0</td>\n",
              "    </tr>\n",
              "    <tr>\n",
              "      <th>2</th>\n",
              "      <td>entrepreneur</td>\n",
              "      <td>married</td>\n",
              "      <td>secondary</td>\n",
              "      <td>unknown</td>\n",
              "      <td>may</td>\n",
              "      <td>33</td>\n",
              "      <td>0</td>\n",
              "      <td>2</td>\n",
              "      <td>1</td>\n",
              "      <td>1</td>\n",
              "      <td>5</td>\n",
              "      <td>76</td>\n",
              "      <td>1</td>\n",
              "      <td>0</td>\n",
              "    </tr>\n",
              "    <tr>\n",
              "      <th>3</th>\n",
              "      <td>blue-collar</td>\n",
              "      <td>married</td>\n",
              "      <td>unknown</td>\n",
              "      <td>unknown</td>\n",
              "      <td>may</td>\n",
              "      <td>47</td>\n",
              "      <td>0</td>\n",
              "      <td>1506</td>\n",
              "      <td>1</td>\n",
              "      <td>0</td>\n",
              "      <td>5</td>\n",
              "      <td>92</td>\n",
              "      <td>1</td>\n",
              "      <td>0</td>\n",
              "    </tr>\n",
              "    <tr>\n",
              "      <th>4</th>\n",
              "      <td>unknown</td>\n",
              "      <td>single</td>\n",
              "      <td>unknown</td>\n",
              "      <td>unknown</td>\n",
              "      <td>may</td>\n",
              "      <td>33</td>\n",
              "      <td>0</td>\n",
              "      <td>1</td>\n",
              "      <td>0</td>\n",
              "      <td>0</td>\n",
              "      <td>5</td>\n",
              "      <td>198</td>\n",
              "      <td>1</td>\n",
              "      <td>0</td>\n",
              "    </tr>\n",
              "  </tbody>\n",
              "</table>\n",
              "</div>\n",
              "      <button class=\"colab-df-convert\" onclick=\"convertToInteractive('df-82780648-9d7f-475e-b314-8b26c1e4f129')\"\n",
              "              title=\"Convert this dataframe to an interactive table.\"\n",
              "              style=\"display:none;\">\n",
              "        \n",
              "  <svg xmlns=\"http://www.w3.org/2000/svg\" height=\"24px\"viewBox=\"0 0 24 24\"\n",
              "       width=\"24px\">\n",
              "    <path d=\"M0 0h24v24H0V0z\" fill=\"none\"/>\n",
              "    <path d=\"M18.56 5.44l.94 2.06.94-2.06 2.06-.94-2.06-.94-.94-2.06-.94 2.06-2.06.94zm-11 1L8.5 8.5l.94-2.06 2.06-.94-2.06-.94L8.5 2.5l-.94 2.06-2.06.94zm10 10l.94 2.06.94-2.06 2.06-.94-2.06-.94-.94-2.06-.94 2.06-2.06.94z\"/><path d=\"M17.41 7.96l-1.37-1.37c-.4-.4-.92-.59-1.43-.59-.52 0-1.04.2-1.43.59L10.3 9.45l-7.72 7.72c-.78.78-.78 2.05 0 2.83L4 21.41c.39.39.9.59 1.41.59.51 0 1.02-.2 1.41-.59l7.78-7.78 2.81-2.81c.8-.78.8-2.07 0-2.86zM5.41 20L4 18.59l7.72-7.72 1.47 1.35L5.41 20z\"/>\n",
              "  </svg>\n",
              "      </button>\n",
              "      \n",
              "  <style>\n",
              "    .colab-df-container {\n",
              "      display:flex;\n",
              "      flex-wrap:wrap;\n",
              "      gap: 12px;\n",
              "    }\n",
              "\n",
              "    .colab-df-convert {\n",
              "      background-color: #E8F0FE;\n",
              "      border: none;\n",
              "      border-radius: 50%;\n",
              "      cursor: pointer;\n",
              "      display: none;\n",
              "      fill: #1967D2;\n",
              "      height: 32px;\n",
              "      padding: 0 0 0 0;\n",
              "      width: 32px;\n",
              "    }\n",
              "\n",
              "    .colab-df-convert:hover {\n",
              "      background-color: #E2EBFA;\n",
              "      box-shadow: 0px 1px 2px rgba(60, 64, 67, 0.3), 0px 1px 3px 1px rgba(60, 64, 67, 0.15);\n",
              "      fill: #174EA6;\n",
              "    }\n",
              "\n",
              "    [theme=dark] .colab-df-convert {\n",
              "      background-color: #3B4455;\n",
              "      fill: #D2E3FC;\n",
              "    }\n",
              "\n",
              "    [theme=dark] .colab-df-convert:hover {\n",
              "      background-color: #434B5C;\n",
              "      box-shadow: 0px 1px 3px 1px rgba(0, 0, 0, 0.15);\n",
              "      filter: drop-shadow(0px 1px 2px rgba(0, 0, 0, 0.3));\n",
              "      fill: #FFFFFF;\n",
              "    }\n",
              "  </style>\n",
              "\n",
              "      <script>\n",
              "        const buttonEl =\n",
              "          document.querySelector('#df-82780648-9d7f-475e-b314-8b26c1e4f129 button.colab-df-convert');\n",
              "        buttonEl.style.display =\n",
              "          google.colab.kernel.accessAllowed ? 'block' : 'none';\n",
              "\n",
              "        async function convertToInteractive(key) {\n",
              "          const element = document.querySelector('#df-82780648-9d7f-475e-b314-8b26c1e4f129');\n",
              "          const dataTable =\n",
              "            await google.colab.kernel.invokeFunction('convertToInteractive',\n",
              "                                                     [key], {});\n",
              "          if (!dataTable) return;\n",
              "\n",
              "          const docLinkHtml = 'Like what you see? Visit the ' +\n",
              "            '<a target=\"_blank\" href=https://colab.research.google.com/notebooks/data_table.ipynb>data table notebook</a>'\n",
              "            + ' to learn more about interactive tables.';\n",
              "          element.innerHTML = '';\n",
              "          dataTable['output_type'] = 'display_data';\n",
              "          await google.colab.output.renderOutput(dataTable, element);\n",
              "          const docLink = document.createElement('div');\n",
              "          docLink.innerHTML = docLinkHtml;\n",
              "          element.appendChild(docLink);\n",
              "        }\n",
              "      </script>\n",
              "    </div>\n",
              "  </div>\n",
              "  "
            ]
          },
          "metadata": {},
          "execution_count": 8
        }
      ]
    },
    {
      "cell_type": "code",
      "source": [
        "features = X.drop(columns=['y'])\n",
        "y = dataset.iloc[:, -1]"
      ],
      "metadata": {
        "id": "a6tI6wVAb9pG"
      },
      "execution_count": 9,
      "outputs": []
    },
    {
      "cell_type": "code",
      "source": [
        "print(features.head(), y.head(), features.shape, y.shape)"
      ],
      "metadata": {
        "colab": {
          "base_uri": "https://localhost:8080/"
        },
        "id": "M21yKo_YcgQ2",
        "outputId": "a597a9a2-3f70-4ee1-8f5c-ecc57e96a257"
      },
      "execution_count": 10,
      "outputs": [
        {
          "output_type": "stream",
          "name": "stdout",
          "text": [
            "            job  marital  education  contact month  age  default  balance  \\\n",
            "0    management  married   tertiary  unknown   may   58        0     2143   \n",
            "1    technician   single  secondary  unknown   may   44        0       29   \n",
            "2  entrepreneur  married  secondary  unknown   may   33        0        2   \n",
            "3   blue-collar  married    unknown  unknown   may   47        0     1506   \n",
            "4       unknown   single    unknown  unknown   may   33        0        1   \n",
            "\n",
            "   housing  loan  day  duration  campaign  \n",
            "0        1     0    5       261         1  \n",
            "1        1     0    5       151         1  \n",
            "2        1     1    5        76         1  \n",
            "3        1     0    5        92         1  \n",
            "4        0     0    5       198         1   0    0\n",
            "1    0\n",
            "2    0\n",
            "3    0\n",
            "4    0\n",
            "Name: y, dtype: int64 (40000, 13) (40000,)\n"
          ]
        }
      ]
    },
    {
      "cell_type": "markdown",
      "source": [
        "##**Creating Histogram**"
      ],
      "metadata": {
        "id": "AftZdO42Bcvn"
      }
    },
    {
      "cell_type": "code",
      "source": [
        "features.hist(bins=15, figsize=(18, 6), layout=(2, 4))"
      ],
      "metadata": {
        "colab": {
          "base_uri": "https://localhost:8080/",
          "height": 0
        },
        "id": "13Pz_LMd1XsV",
        "outputId": "de55955b-41d0-4d27-80fc-4de9a47f9c3d"
      },
      "execution_count": 11,
      "outputs": [
        {
          "output_type": "execute_result",
          "data": {
            "text/plain": [
              "array([[<Axes: title={'center': 'age'}>,\n",
              "        <Axes: title={'center': 'default'}>,\n",
              "        <Axes: title={'center': 'balance'}>,\n",
              "        <Axes: title={'center': 'housing'}>],\n",
              "       [<Axes: title={'center': 'loan'}>,\n",
              "        <Axes: title={'center': 'day'}>,\n",
              "        <Axes: title={'center': 'duration'}>,\n",
              "        <Axes: title={'center': 'campaign'}>]], dtype=object)"
            ]
          },
          "metadata": {},
          "execution_count": 11
        },
        {
          "output_type": "display_data",
          "data": {
            "text/plain": [
              "<Figure size 1800x600 with 8 Axes>"
            ],
            "image/png": "[encoded data removed]"
          },
          "metadata": {}
        }
      ]
    },
    {
      "cell_type": "markdown",
      "source": [
        "No huge correlation impact that affect the target results or perdictions"
      ],
      "metadata": {
        "id": "SPWsYP5UpRQJ"
      }
    },
    {
      "cell_type": "code",
      "source": [
        "plt.figure(figsize = (10,5))\n",
        "sns.heatmap(features.corr(), annot = True, cmap=\"coolwarm\")\n",
        "plt.show()"
      ],
      "metadata": {
        "colab": {
          "base_uri": "https://localhost:8080/",
          "height": 0
        },
        "id": "Nv8q-R8d14I-",
        "outputId": "f364451d-2cb0-4674-b9fd-de6a854aca50"
      },
      "execution_count": 12,
      "outputs": [
        {
          "output_type": "stream",
          "name": "stderr",
          "text": [
            "<ipython-input-12-6d69b7b4b1e3>:2: FutureWarning: The default value of numeric_only in DataFrame.corr is deprecated. In a future version, it will default to False. Select only valid columns or specify the value of numeric_only to silence this warning.\n",
            "  sns.heatmap(features.corr(), annot = True, cmap=\"coolwarm\")\n"
          ]
        },
        {
          "output_type": "display_data",
          "data": {
            "text/plain": [
              "<Figure size 1000x500 with 2 Axes>"
            ],
            "image/png": "[encoded data removed]"
          },
          "metadata": {}
        }
      ]
    },
    {
      "cell_type": "code",
      "source": [
        "print(y.value_counts())\n",
        "\n",
        "y.value_counts().plot(kind='bar')"
      ],
      "metadata": {
        "colab": {
          "base_uri": "https://localhost:8080/",
          "height": 0
        },
        "id": "gNBFsZRhE_xB",
        "outputId": "c89e43c3-326b-440b-a870-c1f14e3ce17e"
      },
      "execution_count": 13,
      "outputs": [
        {
          "output_type": "stream",
          "name": "stdout",
          "text": [
            "0    37104\n",
            "1     2896\n",
            "Name: y, dtype: int64\n"
          ]
        },
        {
          "output_type": "execute_result",
          "data": {
            "text/plain": [
              "<Axes: >"
            ]
          },
          "metadata": {},
          "execution_count": 13
        },
        {
          "output_type": "display_data",
          "data": {
            "text/plain": [
              "<Figure size 640x480 with 1 Axes>"
            ],
            "image/png": "[encoded data removed]"
          },
          "metadata": {}
        }
      ]
    },
    {
      "cell_type": "markdown",
      "metadata": {
        "id": "DXh8oVSITIc6"
      },
      "source": [
        "## Encoding the Dependent Variable"
      ]
    },
    {
      "cell_type": "code",
      "source": [
        "ct = make_column_transformer(\n",
        "    (OneHotEncoder(), make_column_selector(dtype_include=\"category\")), remainder=\"passthrough\")\n",
        "features = ct.fit_transform(features)"
      ],
      "metadata": {
        "id": "vDmfgPh_dPDn"
      },
      "execution_count": 14,
      "outputs": []
    },
    {
      "cell_type": "code",
      "source": [
        "features = pd.DataFrame(features)\n",
        "print(features.head())\n",
        "features.shape"
      ],
      "metadata": {
        "colab": {
          "base_uri": "https://localhost:8080/"
        },
        "id": "y0wX9ABaAJz9",
        "outputId": "a5e17b5d-8df6-45ca-89b1-6eaa54bdb3ee"
      },
      "execution_count": 15,
      "outputs": [
        {
          "output_type": "stream",
          "name": "stdout",
          "text": [
            "    0    1    2    3    4    5    6    7    8    9   ...   31   32    33   34  \\\n",
            "0  0.0  0.0  0.0  0.0  1.0  0.0  0.0  0.0  0.0  0.0  ...  0.0  0.0  58.0  0.0   \n",
            "1  0.0  0.0  0.0  0.0  0.0  0.0  0.0  0.0  0.0  1.0  ...  0.0  0.0  44.0  0.0   \n",
            "2  0.0  0.0  1.0  0.0  0.0  0.0  0.0  0.0  0.0  0.0  ...  0.0  0.0  33.0  0.0   \n",
            "3  0.0  1.0  0.0  0.0  0.0  0.0  0.0  0.0  0.0  0.0  ...  0.0  0.0  47.0  0.0   \n",
            "4  0.0  0.0  0.0  0.0  0.0  0.0  0.0  0.0  0.0  0.0  ...  0.0  0.0  33.0  0.0   \n",
            "\n",
            "       35   36   37   38     39   40  \n",
            "0  2143.0  1.0  0.0  5.0  261.0  1.0  \n",
            "1    29.0  1.0  0.0  5.0  151.0  1.0  \n",
            "2     2.0  1.0  1.0  5.0   76.0  1.0  \n",
            "3  1506.0  1.0  0.0  5.0   92.0  1.0  \n",
            "4     1.0  0.0  0.0  5.0  198.0  1.0  \n",
            "\n",
            "[5 rows x 41 columns]\n"
          ]
        },
        {
          "output_type": "execute_result",
          "data": {
            "text/plain": [
              "(40000, 41)"
            ]
          },
          "metadata": {},
          "execution_count": 15
        }
      ]
    },
    {
      "cell_type": "markdown",
      "metadata": {
        "id": "qb_vcgm3qZKW"
      },
      "source": [
        "## Splitting the dataset into the Training set and Test set"
      ]
    },
    {
      "cell_type": "code",
      "metadata": {
        "id": "pXgA6CzlqbCl"
      },
      "source": [
        "X_train, X_test,  y_train, y_test = train_test_split(features, y.values, test_size = 0.2, random_state = 1)"
      ],
      "execution_count": 16,
      "outputs": []
    },
    {
      "cell_type": "code",
      "metadata": {
        "id": "TUrX_Tvcrbi4",
        "colab": {
          "base_uri": "https://localhost:8080/"
        },
        "outputId": "8a60d2ff-1a59-4dc5-e3cd-a1187cb16406"
      },
      "source": [
        "print(X_train.shape, X_test.shape, y_train.shape, y_test.shape)"
      ],
      "execution_count": 17,
      "outputs": [
        {
          "output_type": "stream",
          "name": "stdout",
          "text": [
            "(32000, 41) (8000, 41) (32000,) (8000,)\n"
          ]
        }
      ]
    },
    {
      "cell_type": "code",
      "source": [
        "X_train= pd.DataFrame(X_train)\n",
        "print(X_train.head())\n",
        "X_train.shape"
      ],
      "metadata": {
        "colab": {
          "base_uri": "https://localhost:8080/"
        },
        "id": "-DP5xwGLXHh7",
        "outputId": "c7d814d9-d56f-4f1f-e9a3-03e247462bbb"
      },
      "execution_count": 18,
      "outputs": [
        {
          "output_type": "stream",
          "name": "stdout",
          "text": [
            "        0    1    2    3    4    5    6    7    8    9   ...   31   32    33  \\\n",
            "21721  0.0  0.0  0.0  0.0  0.0  0.0  0.0  0.0  0.0  1.0  ...  0.0  0.0  33.0   \n",
            "15576  0.0  1.0  0.0  0.0  0.0  0.0  0.0  0.0  0.0  0.0  ...  0.0  0.0  41.0   \n",
            "28716  1.0  0.0  0.0  0.0  0.0  0.0  0.0  0.0  0.0  0.0  ...  0.0  0.0  27.0   \n",
            "204    0.0  0.0  0.0  0.0  0.0  0.0  0.0  1.0  0.0  0.0  ...  0.0  0.0  35.0   \n",
            "36677  0.0  0.0  0.0  0.0  0.0  0.0  0.0  0.0  0.0  1.0  ...  0.0  0.0  46.0   \n",
            "\n",
            "        34     35   36   37    38     39   40  \n",
            "21721  0.0  268.0  0.0  0.0  19.0  255.0  1.0  \n",
            "15576  0.0   98.0  0.0  1.0  21.0   97.0  6.0  \n",
            "28716  0.0  116.0  0.0  0.0  30.0   46.0  1.0  \n",
            "204    0.0    0.0  1.0  0.0   5.0  471.0  1.0  \n",
            "36677  0.0  147.0  1.0  0.0  12.0  189.0  1.0  \n",
            "\n",
            "[5 rows x 41 columns]\n"
          ]
        },
        {
          "output_type": "execute_result",
          "data": {
            "text/plain": [
              "(32000, 41)"
            ]
          },
          "metadata": {},
          "execution_count": 18
        }
      ]
    },
    {
      "cell_type": "code",
      "source": [
        "# ct_test = make_column_transformer(\n",
        "#     (OneHotEncoder, make_column_selector(dtype_include=\"category\")), remainder=\"passthrough\")\n",
        "# X_test = ct_test.fit_transform(X_test)\n",
        "\n",
        "X_test = pd.DataFrame(X_test)\n",
        "print(X_test.head())\n",
        "X_test.shape"
      ],
      "metadata": {
        "colab": {
          "base_uri": "https://localhost:8080/"
        },
        "id": "CrpIwyrIX_V4",
        "outputId": "044abbf4-fb61-4ba9-b4d9-d1014564a83f"
      },
      "execution_count": 19,
      "outputs": [
        {
          "output_type": "stream",
          "name": "stdout",
          "text": [
            "        0    1    2    3    4    5    6    7    8    9   ...   31   32    33  \\\n",
            "3841   0.0  0.0  0.0  1.0  0.0  0.0  0.0  0.0  0.0  0.0  ...  0.0  0.0  57.0   \n",
            "12898  0.0  1.0  0.0  0.0  0.0  0.0  0.0  0.0  0.0  0.0  ...  0.0  0.0  49.0   \n",
            "15032  0.0  0.0  0.0  0.0  0.0  0.0  1.0  0.0  0.0  0.0  ...  0.0  0.0  37.0   \n",
            "36781  0.0  0.0  0.0  0.0  0.0  0.0  0.0  0.0  0.0  1.0  ...  0.0  0.0  33.0   \n",
            "9201   0.0  0.0  0.0  0.0  0.0  0.0  0.0  0.0  0.0  0.0  ...  0.0  0.0  40.0   \n",
            "\n",
            "        34      35   36   37    38     39   40  \n",
            "3841   0.0   260.0  1.0  0.0  16.0   38.0  3.0  \n",
            "12898  1.0  -354.0  0.0  1.0   7.0  455.0  1.0  \n",
            "15032  1.0     0.0  1.0  0.0  17.0  158.0  1.0  \n",
            "36781  0.0   177.0  1.0  1.0  12.0   22.0  8.0  \n",
            "9201   0.0  1779.0  1.0  0.0   5.0   59.0  7.0  \n",
            "\n",
            "[5 rows x 41 columns]\n"
          ]
        },
        {
          "output_type": "execute_result",
          "data": {
            "text/plain": [
              "(8000, 41)"
            ]
          },
          "metadata": {},
          "execution_count": 19
        }
      ]
    },
    {
      "cell_type": "code",
      "source": [
        "dummy = DummyClassifier(strategy='stratified')\n",
        "dummy.fit(X_train, y_train)\n",
        "y_dummy_pred = dummy.predict(X_test)\n",
        "\n",
        "# checking unique labels\n",
        "print('Unique predicted labels: ', (np.unique(y_dummy_pred)))\n",
        "\n",
        "# checking accuracy\n",
        "print('Test score: {:.2f} %'.format(accuracy_score(y_test, y_dummy_pred)*100))"
      ],
      "metadata": {
        "colab": {
          "base_uri": "https://localhost:8080/"
        },
        "id": "KHQSGLKF0fsU",
        "outputId": "4c347f3b-0ed9-4105-c6b5-a33dc88792cb"
      },
      "execution_count": 20,
      "outputs": [
        {
          "output_type": "stream",
          "name": "stdout",
          "text": [
            "Unique predicted labels:  [0 1]\n",
            "Test score: 86.65 %\n"
          ]
        }
      ]
    },
    {
      "cell_type": "code",
      "source": [
        "print('F1_score: {:.2f} %'.format(f1_score(y_test, y_dummy_pred)*100))"
      ],
      "metadata": {
        "colab": {
          "base_uri": "https://localhost:8080/"
        },
        "id": "IySlzTOYMjzo",
        "outputId": "55860efe-7d48-4e7d-dc2b-532bcf0a93d8"
      },
      "execution_count": 21,
      "outputs": [
        {
          "output_type": "stream",
          "name": "stdout",
          "text": [
            "F1_score: 6.48 %\n"
          ]
        }
      ]
    },
    {
      "cell_type": "code",
      "source": [
        "pd.DataFrame(confusion_matrix(y_test, y_dummy_pred))"
      ],
      "metadata": {
        "colab": {
          "base_uri": "https://localhost:8080/",
          "height": 0
        },
        "id": "9MZC6NHmNBTF",
        "outputId": "a84c16f9-b612-4d79-a707-e29d8ae64652"
      },
      "execution_count": 22,
      "outputs": [
        {
          "output_type": "execute_result",
          "data": {
            "text/plain": [
              "      0    1\n",
              "0  6895  540\n",
              "1   528   37"
            ],
            "text/html": [
              "\n",
              "  <div id=\"df-90028ae8-39a0-4e04-ad7c-7cea2e39e599\">\n",
              "    <div class=\"colab-df-container\">\n",
              "      <div>\n",
              "<style scoped>\n",
              "    .dataframe tbody tr th:only-of-type {\n",
              "        vertical-align: middle;\n",
              "    }\n",
              "\n",
              "    .dataframe tbody tr th {\n",
              "        vertical-align: top;\n",
              "    }\n",
              "\n",
              "    .dataframe thead th {\n",
              "        text-align: right;\n",
              "    }\n",
              "</style>\n",
              "<table border=\"1\" class=\"dataframe\">\n",
              "  <thead>\n",
              "    <tr style=\"text-align: right;\">\n",
              "      <th></th>\n",
              "      <th>0</th>\n",
              "      <th>1</th>\n",
              "    </tr>\n",
              "  </thead>\n",
              "  <tbody>\n",
              "    <tr>\n",
              "      <th>0</th>\n",
              "      <td>6895</td>\n",
              "      <td>540</td>\n",
              "    </tr>\n",
              "    <tr>\n",
              "      <th>1</th>\n",
              "      <td>528</td>\n",
              "      <td>37</td>\n",
              "    </tr>\n",
              "  </tbody>\n",
              "</table>\n",
              "</div>\n",
              "      <button class=\"colab-df-convert\" onclick=\"convertToInteractive('df-90028ae8-39a0-4e04-ad7c-7cea2e39e599')\"\n",
              "              title=\"Convert this dataframe to an interactive table.\"\n",
              "              style=\"display:none;\">\n",
              "        \n",
              "  <svg xmlns=\"http://www.w3.org/2000/svg\" height=\"24px\"viewBox=\"0 0 24 24\"\n",
              "       width=\"24px\">\n",
              "    <path d=\"M0 0h24v24H0V0z\" fill=\"none\"/>\n",
              "    <path d=\"M18.56 5.44l.94 2.06.94-2.06 2.06-.94-2.06-.94-.94-2.06-.94 2.06-2.06.94zm-11 1L8.5 8.5l.94-2.06 2.06-.94-2.06-.94L8.5 2.5l-.94 2.06-2.06.94zm10 10l.94 2.06.94-2.06 2.06-.94-2.06-.94-.94-2.06-.94 2.06-2.06.94z\"/><path d=\"M17.41 7.96l-1.37-1.37c-.4-.4-.92-.59-1.43-.59-.52 0-1.04.2-1.43.59L10.3 9.45l-7.72 7.72c-.78.78-.78 2.05 0 2.83L4 21.41c.39.39.9.59 1.41.59.51 0 1.02-.2 1.41-.59l7.78-7.78 2.81-2.81c.8-.78.8-2.07 0-2.86zM5.41 20L4 18.59l7.72-7.72 1.47 1.35L5.41 20z\"/>\n",
              "  </svg>\n",
              "      </button>\n",
              "      \n",
              "  <style>\n",
              "    .colab-df-container {\n",
              "      display:flex;\n",
              "      flex-wrap:wrap;\n",
              "      gap: 12px;\n",
              "    }\n",
              "\n",
              "    .colab-df-convert {\n",
              "      background-color: #E8F0FE;\n",
              "      border: none;\n",
              "      border-radius: 50%;\n",
              "      cursor: pointer;\n",
              "      display: none;\n",
              "      fill: #1967D2;\n",
              "      height: 32px;\n",
              "      padding: 0 0 0 0;\n",
              "      width: 32px;\n",
              "    }\n",
              "\n",
              "    .colab-df-convert:hover {\n",
              "      background-color: #E2EBFA;\n",
              "      box-shadow: 0px 1px 2px rgba(60, 64, 67, 0.3), 0px 1px 3px 1px rgba(60, 64, 67, 0.15);\n",
              "      fill: #174EA6;\n",
              "    }\n",
              "\n",
              "    [theme=dark] .colab-df-convert {\n",
              "      background-color: #3B4455;\n",
              "      fill: #D2E3FC;\n",
              "    }\n",
              "\n",
              "    [theme=dark] .colab-df-convert:hover {\n",
              "      background-color: #434B5C;\n",
              "      box-shadow: 0px 1px 3px 1px rgba(0, 0, 0, 0.15);\n",
              "      filter: drop-shadow(0px 1px 2px rgba(0, 0, 0, 0.3));\n",
              "      fill: #FFFFFF;\n",
              "    }\n",
              "  </style>\n",
              "\n",
              "      <script>\n",
              "        const buttonEl =\n",
              "          document.querySelector('#df-90028ae8-39a0-4e04-ad7c-7cea2e39e599 button.colab-df-convert');\n",
              "        buttonEl.style.display =\n",
              "          google.colab.kernel.accessAllowed ? 'block' : 'none';\n",
              "\n",
              "        async function convertToInteractive(key) {\n",
              "          const element = document.querySelector('#df-90028ae8-39a0-4e04-ad7c-7cea2e39e599');\n",
              "          const dataTable =\n",
              "            await google.colab.kernel.invokeFunction('convertToInteractive',\n",
              "                                                     [key], {});\n",
              "          if (!dataTable) return;\n",
              "\n",
              "          const docLinkHtml = 'Like what you see? Visit the ' +\n",
              "            '<a target=\"_blank\" href=https://colab.research.google.com/notebooks/data_table.ipynb>data table notebook</a>'\n",
              "            + ' to learn more about interactive tables.';\n",
              "          element.innerHTML = '';\n",
              "          dataTable['output_type'] = 'display_data';\n",
              "          await google.colab.output.renderOutput(dataTable, element);\n",
              "          const docLink = document.createElement('div');\n",
              "          docLink.innerHTML = docLinkHtml;\n",
              "          element.appendChild(docLink);\n",
              "        }\n",
              "      </script>\n",
              "    </div>\n",
              "  </div>\n",
              "  "
            ]
          },
          "metadata": {},
          "execution_count": 22
        }
      ]
    },
    {
      "cell_type": "code",
      "source": [
        "y_pred_proba = dummy.predict_proba(X_test)"
      ],
      "metadata": {
        "id": "vqWlORcOoIBe"
      },
      "execution_count": 23,
      "outputs": []
    },
    {
      "cell_type": "code",
      "source": [
        "print(pd.DataFrame(y_pred_proba))"
      ],
      "metadata": {
        "colab": {
          "base_uri": "https://localhost:8080/"
        },
        "id": "2bHdluw5qBy4",
        "outputId": "fe08cff5-e489-4e9a-d3e8-77d7e80d4b30"
      },
      "execution_count": 24,
      "outputs": [
        {
          "output_type": "stream",
          "name": "stdout",
          "text": [
            "        0    1\n",
            "0     1.0  0.0\n",
            "1     1.0  0.0\n",
            "2     1.0  0.0\n",
            "3     0.0  1.0\n",
            "4     1.0  0.0\n",
            "...   ...  ...\n",
            "7995  1.0  0.0\n",
            "7996  1.0  0.0\n",
            "7997  1.0  0.0\n",
            "7998  1.0  0.0\n",
            "7999  1.0  0.0\n",
            "\n",
            "[8000 rows x 2 columns]\n"
          ]
        }
      ]
    },
    {
      "cell_type": "markdown",
      "metadata": {
        "id": "TpGqbS4TqkIR"
      },
      "source": [
        "#**Modeling and selection**"
      ]
    },
    {
      "cell_type": "markdown",
      "source": [
        "##**Logistic Regression**"
      ],
      "metadata": {
        "id": "zJ_972gH4qPm"
      }
    },
    {
      "cell_type": "code",
      "metadata": {
        "id": "AxjSUXFQqo-3",
        "colab": {
          "base_uri": "https://localhost:8080/"
        },
        "outputId": "fe0ab07f-0ec6-442d-f112-f9bce9e8e2fc"
      },
      "source": [
        "lg = LogisticRegression(solver='newton-cg')\n",
        "lg.fit(X_train, y_train)\n",
        "\n",
        "y_pred_lg = lg.predict(X_test)\n",
        "\n",
        "print(y_pred_lg)\n",
        "print('Test score: {:.2f} %'.format(accuracy_score(y_test, y_pred_lg)*100))"
      ],
      "execution_count": 25,
      "outputs": [
        {
          "output_type": "stream",
          "name": "stderr",
          "text": [
            "/usr/local/lib/python3.10/dist-packages/scipy/optimize/_linesearch.py:457: LineSearchWarning: The line search algorithm did not converge\n",
            "  warn('The line search algorithm did not converge', LineSearchWarning)\n",
            "/usr/local/lib/python3.10/dist-packages/scipy/optimize/_linesearch.py:306: LineSearchWarning: The line search algorithm did not converge\n",
            "  warn('The line search algorithm did not converge', LineSearchWarning)\n"
          ]
        },
        {
          "output_type": "stream",
          "name": "stdout",
          "text": [
            "[0 0 0 ... 0 0 0]\n",
            "Test score: 93.75 %\n"
          ]
        },
        {
          "output_type": "stream",
          "name": "stderr",
          "text": [
            "/usr/local/lib/python3.10/dist-packages/sklearn/utils/optimize.py:210: ConvergenceWarning: newton-cg failed to converge. Increase the number of iterations.\n",
            "  warnings.warn(\n"
          ]
        }
      ]
    },
    {
      "cell_type": "code",
      "source": [
        "predictions = pd.DataFrame(y_pred_lg)\n",
        "predictions[0].value_counts()"
      ],
      "metadata": {
        "colab": {
          "base_uri": "https://localhost:8080/"
        },
        "id": "bkaw9L3llloE",
        "outputId": "9e180962-1b71-43f2-ccc1-638e32e3e2cb"
      },
      "execution_count": 26,
      "outputs": [
        {
          "output_type": "execute_result",
          "data": {
            "text/plain": [
              "0    7739\n",
              "1     261\n",
              "Name: 0, dtype: int64"
            ]
          },
          "metadata": {},
          "execution_count": 26
        }
      ]
    },
    {
      "cell_type": "code",
      "source": [
        "print('F1_score: {:.2f} %'.format(f1_score(y_test, y_pred_lg)*100))"
      ],
      "metadata": {
        "colab": {
          "base_uri": "https://localhost:8080/"
        },
        "id": "NKG1NbrtlEol",
        "outputId": "1b625d89-d097-458a-e405-e095082329d2"
      },
      "execution_count": 27,
      "outputs": [
        {
          "output_type": "stream",
          "name": "stdout",
          "text": [
            "F1_score: 39.47 %\n"
          ]
        }
      ]
    },
    {
      "cell_type": "code",
      "source": [
        "print('Recall: {:.2f} %'.format(recall_score(y_test, y_pred_lg)*100))"
      ],
      "metadata": {
        "colab": {
          "base_uri": "https://localhost:8080/"
        },
        "id": "abgTDNuTmgWn",
        "outputId": "7c70c9a9-3d15-42a4-d08f-099de7b6d5ad"
      },
      "execution_count": 28,
      "outputs": [
        {
          "output_type": "stream",
          "name": "stdout",
          "text": [
            "Recall: 28.85 %\n"
          ]
        }
      ]
    },
    {
      "cell_type": "code",
      "source": [
        "pd.DataFrame(confusion_matrix(y_test,y_pred_lg))"
      ],
      "metadata": {
        "colab": {
          "base_uri": "https://localhost:8080/",
          "height": 112
        },
        "id": "TsTQ2OAir59N",
        "outputId": "6f8a0a2f-f7b2-42bf-e71d-6924d538308d"
      },
      "execution_count": 29,
      "outputs": [
        {
          "output_type": "execute_result",
          "data": {
            "text/plain": [
              "      0    1\n",
              "0  7337   98\n",
              "1   402  163"
            ],
            "text/html": [
              "\n",
              "  <div id=\"df-726dc6fd-33f1-46f2-83d0-f112a171a9a0\">\n",
              "    <div class=\"colab-df-container\">\n",
              "      <div>\n",
              "<style scoped>\n",
              "    .dataframe tbody tr th:only-of-type {\n",
              "        vertical-align: middle;\n",
              "    }\n",
              "\n",
              "    .dataframe tbody tr th {\n",
              "        vertical-align: top;\n",
              "    }\n",
              "\n",
              "    .dataframe thead th {\n",
              "        text-align: right;\n",
              "    }\n",
              "</style>\n",
              "<table border=\"1\" class=\"dataframe\">\n",
              "  <thead>\n",
              "    <tr style=\"text-align: right;\">\n",
              "      <th></th>\n",
              "      <th>0</th>\n",
              "      <th>1</th>\n",
              "    </tr>\n",
              "  </thead>\n",
              "  <tbody>\n",
              "    <tr>\n",
              "      <th>0</th>\n",
              "      <td>7337</td>\n",
              "      <td>98</td>\n",
              "    </tr>\n",
              "    <tr>\n",
              "      <th>1</th>\n",
              "      <td>402</td>\n",
              "      <td>163</td>\n",
              "    </tr>\n",
              "  </tbody>\n",
              "</table>\n",
              "</div>\n",
              "      <button class=\"colab-df-convert\" onclick=\"convertToInteractive('df-726dc6fd-33f1-46f2-83d0-f112a171a9a0')\"\n",
              "              title=\"Convert this dataframe to an interactive table.\"\n",
              "              style=\"display:none;\">\n",
              "        \n",
              "  <svg xmlns=\"http://www.w3.org/2000/svg\" height=\"24px\"viewBox=\"0 0 24 24\"\n",
              "       width=\"24px\">\n",
              "    <path d=\"M0 0h24v24H0V0z\" fill=\"none\"/>\n",
              "    <path d=\"M18.56 5.44l.94 2.06.94-2.06 2.06-.94-2.06-.94-.94-2.06-.94 2.06-2.06.94zm-11 1L8.5 8.5l.94-2.06 2.06-.94-2.06-.94L8.5 2.5l-.94 2.06-2.06.94zm10 10l.94 2.06.94-2.06 2.06-.94-2.06-.94-.94-2.06-.94 2.06-2.06.94z\"/><path d=\"M17.41 7.96l-1.37-1.37c-.4-.4-.92-.59-1.43-.59-.52 0-1.04.2-1.43.59L10.3 9.45l-7.72 7.72c-.78.78-.78 2.05 0 2.83L4 21.41c.39.39.9.59 1.41.59.51 0 1.02-.2 1.41-.59l7.78-7.78 2.81-2.81c.8-.78.8-2.07 0-2.86zM5.41 20L4 18.59l7.72-7.72 1.47 1.35L5.41 20z\"/>\n",
              "  </svg>\n",
              "      </button>\n",
              "      \n",
              "  <style>\n",
              "    .colab-df-container {\n",
              "      display:flex;\n",
              "      flex-wrap:wrap;\n",
              "      gap: 12px;\n",
              "    }\n",
              "\n",
              "    .colab-df-convert {\n",
              "      background-color: #E8F0FE;\n",
              "      border: none;\n",
              "      border-radius: 50%;\n",
              "      cursor: pointer;\n",
              "      display: none;\n",
              "      fill: #1967D2;\n",
              "      height: 32px;\n",
              "      padding: 0 0 0 0;\n",
              "      width: 32px;\n",
              "    }\n",
              "\n",
              "    .colab-df-convert:hover {\n",
              "      background-color: #E2EBFA;\n",
              "      box-shadow: 0px 1px 2px rgba(60, 64, 67, 0.3), 0px 1px 3px 1px rgba(60, 64, 67, 0.15);\n",
              "      fill: #174EA6;\n",
              "    }\n",
              "\n",
              "    [theme=dark] .colab-df-convert {\n",
              "      background-color: #3B4455;\n",
              "      fill: #D2E3FC;\n",
              "    }\n",
              "\n",
              "    [theme=dark] .colab-df-convert:hover {\n",
              "      background-color: #434B5C;\n",
              "      box-shadow: 0px 1px 3px 1px rgba(0, 0, 0, 0.15);\n",
              "      filter: drop-shadow(0px 1px 2px rgba(0, 0, 0, 0.3));\n",
              "      fill: #FFFFFF;\n",
              "    }\n",
              "  </style>\n",
              "\n",
              "      <script>\n",
              "        const buttonEl =\n",
              "          document.querySelector('#df-726dc6fd-33f1-46f2-83d0-f112a171a9a0 button.colab-df-convert');\n",
              "        buttonEl.style.display =\n",
              "          google.colab.kernel.accessAllowed ? 'block' : 'none';\n",
              "\n",
              "        async function convertToInteractive(key) {\n",
              "          const element = document.querySelector('#df-726dc6fd-33f1-46f2-83d0-f112a171a9a0');\n",
              "          const dataTable =\n",
              "            await google.colab.kernel.invokeFunction('convertToInteractive',\n",
              "                                                     [key], {});\n",
              "          if (!dataTable) return;\n",
              "\n",
              "          const docLinkHtml = 'Like what you see? Visit the ' +\n",
              "            '<a target=\"_blank\" href=https://colab.research.google.com/notebooks/data_table.ipynb>data table notebook</a>'\n",
              "            + ' to learn more about interactive tables.';\n",
              "          element.innerHTML = '';\n",
              "          dataTable['output_type'] = 'display_data';\n",
              "          await google.colab.output.renderOutput(dataTable, element);\n",
              "          const docLink = document.createElement('div');\n",
              "          docLink.innerHTML = docLinkHtml;\n",
              "          element.appendChild(docLink);\n",
              "        }\n",
              "      </script>\n",
              "    </div>\n",
              "  </div>\n",
              "  "
            ]
          },
          "metadata": {},
          "execution_count": 29
        }
      ]
    },
    {
      "cell_type": "code",
      "source": [
        "y_pred_proba_lg = lg.predict_proba(X_test)"
      ],
      "metadata": {
        "id": "MIvS--Ljqiv1"
      },
      "execution_count": 30,
      "outputs": []
    },
    {
      "cell_type": "code",
      "source": [
        "print(pd.DataFrame(y_pred_proba_lg))"
      ],
      "metadata": {
        "colab": {
          "base_uri": "https://localhost:8080/"
        },
        "id": "HDUrO-J_qiN5",
        "outputId": "20235982-c1fe-4419-d510-e775996db259"
      },
      "execution_count": 31,
      "outputs": [
        {
          "output_type": "stream",
          "name": "stdout",
          "text": [
            "             0         1\n",
            "0     0.998595  0.001405\n",
            "1     0.943511  0.056489\n",
            "2     0.985445  0.014555\n",
            "3     0.989305  0.010695\n",
            "4     0.996166  0.003834\n",
            "...        ...       ...\n",
            "7995  0.961503  0.038497\n",
            "7996  0.974109  0.025891\n",
            "7997  0.981463  0.018537\n",
            "7998  0.982378  0.017622\n",
            "7999  0.955202  0.044798\n",
            "\n",
            "[8000 rows x 2 columns]\n"
          ]
        }
      ]
    },
    {
      "cell_type": "code",
      "source": [
        "params = {'C':[0.1,0.01,0.02,0.3,0.0015,1], 'solver':[\"lbfgs\", \"liblinear\", \"newton-cg\", \"newton-cholesky\", \"sag\", \"saga\"]}\n",
        "grid_search_lg = GridSearchCV(estimator= lg, param_grid=params, cv= 5 , scoring='f1', n_jobs = -1)\n",
        "grid_search_lg.fit(X_train, y_train)\n",
        "best_accuracy_lg = grid_search_lg.best_score_\n",
        "best_params_lg = grid_search_lg.best_params_\n",
        "print(\"Best F1_Score for Logistisc regression: {:.2f}%\".format(best_accuracy_lg*100))\n",
        "print(\"Best params for Logistisc regression: \",best_params_lg)"
      ],
      "metadata": {
        "colab": {
          "base_uri": "https://localhost:8080/"
        },
        "id": "FX-Ks9yhmJGV",
        "outputId": "2c9a0e97-8972-4691-fcb9-e204948fed61"
      },
      "execution_count": 32,
      "outputs": [
        {
          "output_type": "stream",
          "name": "stdout",
          "text": [
            "Best F1_Score for Logistisc regression: 38.22%\n",
            "Best params for Logistisc regression:  {'C': 1, 'solver': 'liblinear'}\n"
          ]
        }
      ]
    },
    {
      "cell_type": "markdown",
      "source": [
        "\n",
        "##**RandomForest Classifier**"
      ],
      "metadata": {
        "id": "Fknq_DekwxSn"
      }
    },
    {
      "cell_type": "code",
      "source": [
        "rfc = RandomForestClassifier(n_estimators=10)\n",
        "\n",
        "rfc.fit(X_train, y_train)\n",
        "\n",
        "# predict on test set\n",
        "rfc_pred = rfc.predict(X_test)\n",
        "\n",
        "print('Accuracy score: {:.2f} %'.format(accuracy_score(y_test, rfc_pred)*100))"
      ],
      "metadata": {
        "colab": {
          "base_uri": "https://localhost:8080/"
        },
        "id": "gOT6k_D1JXUE",
        "outputId": "420ded86-c555-4e5e-9f89-9a6fb3a6fd88"
      },
      "execution_count": 33,
      "outputs": [
        {
          "output_type": "stream",
          "name": "stdout",
          "text": [
            "Accuracy score: 93.47 %\n"
          ]
        }
      ]
    },
    {
      "cell_type": "code",
      "source": [
        "print('F1_score: {:.2f} %'.format(f1_score(y_test, rfc_pred)*100))"
      ],
      "metadata": {
        "colab": {
          "base_uri": "https://localhost:8080/"
        },
        "id": "0EM-tTNrn00a",
        "outputId": "dd804453-5818-4787-c2b4-7b6e0e7fc959"
      },
      "execution_count": 34,
      "outputs": [
        {
          "output_type": "stream",
          "name": "stdout",
          "text": [
            "F1_score: 36.50 %\n"
          ]
        }
      ]
    },
    {
      "cell_type": "code",
      "source": [
        "print('Recall: {:.2f} %'.format(recall_score(y_test, rfc_pred)*100))"
      ],
      "metadata": {
        "colab": {
          "base_uri": "https://localhost:8080/"
        },
        "id": "P5ZUMT72oH-E",
        "outputId": "c3c37089-099b-4c17-8e09-2847f42bf1e7"
      },
      "execution_count": 35,
      "outputs": [
        {
          "output_type": "stream",
          "name": "stdout",
          "text": [
            "Recall: 26.55 %\n"
          ]
        }
      ]
    },
    {
      "cell_type": "code",
      "source": [
        "y_pred_proba_rfc = rfc.predict_proba(X_test)"
      ],
      "metadata": {
        "id": "CV-4SbOdvJvt"
      },
      "execution_count": 36,
      "outputs": []
    },
    {
      "cell_type": "code",
      "source": [
        "print(pd.DataFrame(y_pred_proba_rfc))"
      ],
      "metadata": {
        "colab": {
          "base_uri": "https://localhost:8080/"
        },
        "id": "Qy1LKj5CvJfZ",
        "outputId": "9bc69824-da41-4b26-8b90-b07af819fd43"
      },
      "execution_count": 37,
      "outputs": [
        {
          "output_type": "stream",
          "name": "stdout",
          "text": [
            "        0    1\n",
            "0     1.0  0.0\n",
            "1     0.7  0.3\n",
            "2     1.0  0.0\n",
            "3     1.0  0.0\n",
            "4     1.0  0.0\n",
            "...   ...  ...\n",
            "7995  1.0  0.0\n",
            "7996  1.0  0.0\n",
            "7997  1.0  0.0\n",
            "7998  1.0  0.0\n",
            "7999  1.0  0.0\n",
            "\n",
            "[8000 rows x 2 columns]\n"
          ]
        }
      ]
    },
    {
      "cell_type": "code",
      "source": [
        "params = {'n_estimators': [10, 20, 25, 50, 100], 'max_depth': [4,5,6,7,8,9,10,12,14,20,50], 'criterion':['entropy','gini'], 'min_samples_split':[2,4,6,8,10,12]}\n",
        "grid_search_rd = GridSearchCV(estimator= rfc, param_grid=params, cv= 5 , scoring='f1', n_jobs = -1)\n",
        "grid_search_rd.fit(X_train, y_train)\n",
        "best_accuracy_rd = grid_search_rd.best_score_\n",
        "best_params_rd = grid_search_rd.best_params_\n",
        "print(\"Best F1_Score for RandomForest: {:.2f}%\".format(best_accuracy_rd*100))\n",
        "print(\"Best params for RandomForest: \",best_params_rd)"
      ],
      "metadata": {
        "colab": {
          "base_uri": "https://localhost:8080/"
        },
        "id": "ymsCjSOvxLNV",
        "outputId": "135f43bd-3caf-4ca3-b494-7ac088d76b48"
      },
      "execution_count": 38,
      "outputs": [
        {
          "output_type": "stream",
          "name": "stdout",
          "text": [
            "Best F1_Score for RandomForest: 42.15%\n",
            "Best params for RandomForest:  {'criterion': 'gini', 'max_depth': 50, 'min_samples_split': 2, 'n_estimators': 25}\n"
          ]
        }
      ]
    },
    {
      "cell_type": "markdown",
      "source": [
        "##**Decision Tree**"
      ],
      "metadata": {
        "id": "_ekxXImXrMCt"
      }
    },
    {
      "cell_type": "code",
      "source": [
        "dtc = DecisionTreeClassifier(criterion='entropy', max_depth=6,min_samples_split= 2, splitter=\"random\", random_state=0)\n",
        "dtc.fit(X_train, y_train)\n",
        "\n",
        "y_pred_dt = dtc.predict(X_test)\n",
        "\n",
        "print('Accuracy score: {:.2f} %'.format(accuracy_score(y_test, y_pred_dt)*100))"
      ],
      "metadata": {
        "colab": {
          "base_uri": "https://localhost:8080/"
        },
        "id": "euisu7tGrSD4",
        "outputId": "141a0a3a-bb2c-45f7-e752-a57570b4fc9b"
      },
      "execution_count": 39,
      "outputs": [
        {
          "output_type": "stream",
          "name": "stdout",
          "text": [
            "Accuracy score: 93.62 %\n"
          ]
        }
      ]
    },
    {
      "cell_type": "code",
      "source": [
        "print('F1_score: {:.2f} %'.format(f1_score(y_test, y_pred_dt)*100))"
      ],
      "metadata": {
        "colab": {
          "base_uri": "https://localhost:8080/"
        },
        "id": "nFrQEWsBv2cl",
        "outputId": "65f38886-1883-4cbd-d7b3-f6b689e4c4e0"
      },
      "execution_count": 40,
      "outputs": [
        {
          "output_type": "stream",
          "name": "stdout",
          "text": [
            "F1_score: 35.93 %\n"
          ]
        }
      ]
    },
    {
      "cell_type": "code",
      "source": [
        "print('Recall: {:.2f} %'.format(recall_score(y_test, y_pred_dt)*100))"
      ],
      "metadata": {
        "colab": {
          "base_uri": "https://localhost:8080/"
        },
        "id": "nOj3bMYwwCNo",
        "outputId": "6f272236-cc6c-4267-c323-95e40827b4fe"
      },
      "execution_count": 41,
      "outputs": [
        {
          "output_type": "stream",
          "name": "stdout",
          "text": [
            "Recall: 25.31 %\n"
          ]
        }
      ]
    },
    {
      "cell_type": "code",
      "source": [
        "y_pred_proba_dt = dtc.predict_proba(X_test)"
      ],
      "metadata": {
        "id": "TdbqwUy1wG_a"
      },
      "execution_count": 42,
      "outputs": []
    },
    {
      "cell_type": "code",
      "source": [
        "print(pd.DataFrame(y_pred_proba_dt))"
      ],
      "metadata": {
        "colab": {
          "base_uri": "https://localhost:8080/"
        },
        "id": "GwWtx9jRwHyW",
        "outputId": "cda74fc8-5013-44a5-c538-4a6769f46584"
      },
      "execution_count": 43,
      "outputs": [
        {
          "output_type": "stream",
          "name": "stdout",
          "text": [
            "             0         1\n",
            "0     0.994334  0.005666\n",
            "1     0.762063  0.237937\n",
            "2     0.994334  0.005666\n",
            "3     0.994334  0.005666\n",
            "4     0.994334  0.005666\n",
            "...        ...       ...\n",
            "7995  0.899083  0.100917\n",
            "7996  0.994334  0.005666\n",
            "7997  0.994334  0.005666\n",
            "7998  0.994334  0.005666\n",
            "7999  0.987952  0.012048\n",
            "\n",
            "[8000 rows x 2 columns]\n"
          ]
        }
      ]
    },
    {
      "cell_type": "code",
      "source": [
        "params = {'max_depth': [4,5,6,7,8,9,10,12,14,20,50], 'criterion':['entropy','gini'], 'splitter':[\"random\",\"best\"], 'min_samples_split':[2,4,6,8,10,12]}\n",
        "grid_search_dt = GridSearchCV(estimator= dtc, param_grid=params, cv= 5 , scoring='f1', n_jobs = -1)\n",
        "grid_search_dt.fit(X_train, y_train)\n",
        "best_accuracy_dt = grid_search_dt.best_score_\n",
        "best_params_dt = grid_search_dt.best_params_\n",
        "print(\"Best F1_Score for DecisionTree: {:.2f}%\".format(best_accuracy_dt*100))\n",
        "print(\"Best params for DecisionTree: \",best_params_dt)"
      ],
      "metadata": {
        "colab": {
          "base_uri": "https://localhost:8080/"
        },
        "id": "FVQ7qlY1wyZM",
        "outputId": "a9ddc397-4b10-4859-ea93-9a57e544b481"
      },
      "execution_count": 44,
      "outputs": [
        {
          "output_type": "stream",
          "name": "stdout",
          "text": [
            "Best F1_Score for DecisionTree: 47.39%\n",
            "Best params for DecisionTree:  {'criterion': 'entropy', 'max_depth': 10, 'min_samples_split': 12, 'splitter': 'best'}\n"
          ]
        }
      ]
    },
    {
      "cell_type": "markdown",
      "source": [
        "##**Oversampling**"
      ],
      "metadata": {
        "id": "hsbM9K8vp5d0"
      }
    },
    {
      "cell_type": "markdown",
      "source": [
        "###**Resampling**"
      ],
      "metadata": {
        "id": "tndXtzReAtNU"
      }
    },
    {
      "cell_type": "code",
      "source": [
        "y_0 = X[X.y==0]\n",
        "y_1 = X[X.y==1]\n",
        "\n",
        "# upsample minority\n",
        "y_upsampled = resample(y_1,\n",
        "                          replace=True, # sample with replacement\n",
        "                          n_samples=len(y_0), # match number in majority class\n",
        "                          random_state=1) # reproducible results\n",
        "\n",
        "# combine majority and upsampled minority\n",
        "upsampled = pd.concat([y_0, y_upsampled])\n",
        "\n",
        "# check new class counts\n",
        "upsampled.y.value_counts()"
      ],
      "metadata": {
        "colab": {
          "base_uri": "https://localhost:8080/"
        },
        "id": "iZWHkBrWp9AS",
        "outputId": "d4d7d723-d8cd-426e-d955-84bed69957f1"
      },
      "execution_count": 45,
      "outputs": [
        {
          "output_type": "execute_result",
          "data": {
            "text/plain": [
              "0    37104\n",
              "1    37104\n",
              "Name: y, dtype: int64"
            ]
          },
          "metadata": {},
          "execution_count": 45
        }
      ]
    },
    {
      "cell_type": "code",
      "source": [
        "y_train = upsampled.y\n",
        "X_train = upsampled.drop('y', axis=1)"
      ],
      "metadata": {
        "id": "udDbITjU6h9f"
      },
      "execution_count": 46,
      "outputs": []
    },
    {
      "cell_type": "code",
      "source": [
        "ct = make_column_transformer(\n",
        "    (OneHotEncoder(), make_column_selector(dtype_include=\"category\")), remainder=\"passthrough\")\n",
        "X_train = ct.fit_transform(X_train)\n",
        "X_test = ct.fit_transform(X_test)\n",
        "X_train = pd.DataFrame(X_train)\n",
        "print(X_train.head())\n",
        "X_train.shape"
      ],
      "metadata": {
        "colab": {
          "base_uri": "https://localhost:8080/"
        },
        "id": "L3iIQN1q6Rsz",
        "outputId": "2b68e37c-05a0-4038-b40f-73724a40d5f9"
      },
      "execution_count": 47,
      "outputs": [
        {
          "output_type": "stream",
          "name": "stdout",
          "text": [
            "    0    1    2    3    4    5    6    7    8    9   ...   31   32    33   34  \\\n",
            "0  0.0  0.0  0.0  0.0  1.0  0.0  0.0  0.0  0.0  0.0  ...  0.0  0.0  58.0  0.0   \n",
            "1  0.0  0.0  0.0  0.0  0.0  0.0  0.0  0.0  0.0  1.0  ...  0.0  0.0  44.0  0.0   \n",
            "2  0.0  0.0  1.0  0.0  0.0  0.0  0.0  0.0  0.0  0.0  ...  0.0  0.0  33.0  0.0   \n",
            "3  0.0  1.0  0.0  0.0  0.0  0.0  0.0  0.0  0.0  0.0  ...  0.0  0.0  47.0  0.0   \n",
            "4  0.0  0.0  0.0  0.0  0.0  0.0  0.0  0.0  0.0  0.0  ...  0.0  0.0  33.0  0.0   \n",
            "\n",
            "       35   36   37   38     39   40  \n",
            "0  2143.0  1.0  0.0  5.0  261.0  1.0  \n",
            "1    29.0  1.0  0.0  5.0  151.0  1.0  \n",
            "2     2.0  1.0  1.0  5.0   76.0  1.0  \n",
            "3  1506.0  1.0  0.0  5.0   92.0  1.0  \n",
            "4     1.0  0.0  0.0  5.0  198.0  1.0  \n",
            "\n",
            "[5 rows x 41 columns]\n"
          ]
        },
        {
          "output_type": "execute_result",
          "data": {
            "text/plain": [
              "(74208, 41)"
            ]
          },
          "metadata": {},
          "execution_count": 47
        }
      ]
    },
    {
      "cell_type": "code",
      "source": [
        "X_test = pd.DataFrame(X_test)\n",
        "print(X_test.head())\n",
        "X_test.shape"
      ],
      "metadata": {
        "colab": {
          "base_uri": "https://localhost:8080/"
        },
        "id": "QvSbRSav7Mcd",
        "outputId": "602adb2e-8993-4202-bfbc-b2a4eb460a34"
      },
      "execution_count": 48,
      "outputs": [
        {
          "output_type": "stream",
          "name": "stdout",
          "text": [
            "    0    1    2    3    4    5    6    7    8    9   ...   31   32    33   34  \\\n",
            "0  0.0  0.0  0.0  1.0  0.0  0.0  0.0  0.0  0.0  0.0  ...  0.0  0.0  57.0  0.0   \n",
            "1  0.0  1.0  0.0  0.0  0.0  0.0  0.0  0.0  0.0  0.0  ...  0.0  0.0  49.0  1.0   \n",
            "2  0.0  0.0  0.0  0.0  0.0  0.0  1.0  0.0  0.0  0.0  ...  0.0  0.0  37.0  1.0   \n",
            "3  0.0  0.0  0.0  0.0  0.0  0.0  0.0  0.0  0.0  1.0  ...  0.0  0.0  33.0  0.0   \n",
            "4  0.0  0.0  0.0  0.0  0.0  0.0  0.0  0.0  0.0  0.0  ...  0.0  0.0  40.0  0.0   \n",
            "\n",
            "       35   36   37    38     39   40  \n",
            "0   260.0  1.0  0.0  16.0   38.0  3.0  \n",
            "1  -354.0  0.0  1.0   7.0  455.0  1.0  \n",
            "2     0.0  1.0  0.0  17.0  158.0  1.0  \n",
            "3   177.0  1.0  1.0  12.0   22.0  8.0  \n",
            "4  1779.0  1.0  0.0   5.0   59.0  7.0  \n",
            "\n",
            "[5 rows x 41 columns]\n"
          ]
        },
        {
          "output_type": "execute_result",
          "data": {
            "text/plain": [
              "(8000, 41)"
            ]
          },
          "metadata": {},
          "execution_count": 48
        }
      ]
    },
    {
      "cell_type": "markdown",
      "source": [
        "###**Logistic Regression (Upsampling)**"
      ],
      "metadata": {
        "id": "17ee2o9Q58E_"
      }
    },
    {
      "cell_type": "code",
      "source": [
        "upsampled = LogisticRegression(solver='liblinear')\n",
        "upsampled.fit(X_train, y_train)\n",
        "\n",
        "upsampled_pred = upsampled.predict(X_test)"
      ],
      "metadata": {
        "id": "nGa_KCPC57PB"
      },
      "execution_count": 49,
      "outputs": []
    },
    {
      "cell_type": "code",
      "source": [
        "print('Accuracy score: {:.2f} %'.format(accuracy_score(y_test, upsampled_pred)*100))"
      ],
      "metadata": {
        "colab": {
          "base_uri": "https://localhost:8080/"
        },
        "id": "O6bDYkNS6oME",
        "outputId": "986b5d4b-8b65-4231-aec4-80936cbf2bff"
      },
      "execution_count": 50,
      "outputs": [
        {
          "output_type": "stream",
          "name": "stdout",
          "text": [
            "Accuracy score: 87.58 %\n"
          ]
        }
      ]
    },
    {
      "cell_type": "code",
      "source": [
        "print('F1 score: {:.2f} %'.format(f1_score(y_test, upsampled_pred)*100))"
      ],
      "metadata": {
        "colab": {
          "base_uri": "https://localhost:8080/"
        },
        "id": "GErvziOYA4TD",
        "outputId": "32dac6aa-a834-4356-a084-eda6e72b0f6c"
      },
      "execution_count": 51,
      "outputs": [
        {
          "output_type": "stream",
          "name": "stdout",
          "text": [
            "F1 score: 49.75 %\n"
          ]
        }
      ]
    },
    {
      "cell_type": "code",
      "source": [
        "print(pd.DataFrame(confusion_matrix(y_test,upsampled_pred)))"
      ],
      "metadata": {
        "colab": {
          "base_uri": "https://localhost:8080/"
        },
        "id": "Z1oqnWauCZmj",
        "outputId": "939baea1-1bf9-4f99-9214-9052b8698315"
      },
      "execution_count": 52,
      "outputs": [
        {
          "output_type": "stream",
          "name": "stdout",
          "text": [
            "      0    1\n",
            "0  6514  921\n",
            "1    73  492\n"
          ]
        }
      ]
    },
    {
      "cell_type": "code",
      "source": [
        "print('Recall score: {:.2f} %'.format(recall_score(y_test, upsampled_pred)*100))"
      ],
      "metadata": {
        "colab": {
          "base_uri": "https://localhost:8080/"
        },
        "id": "khNrRjC5CPyZ",
        "outputId": "1a1e853f-5b83-49e6-e640-84daa1ef90a6"
      },
      "execution_count": 53,
      "outputs": [
        {
          "output_type": "stream",
          "name": "stdout",
          "text": [
            "Recall score: 87.08 %\n"
          ]
        }
      ]
    },
    {
      "cell_type": "code",
      "source": [
        "upsampled_pred_proba = upsampled.predict_proba(X_test)"
      ],
      "metadata": {
        "id": "zl-94g_7zUWt"
      },
      "execution_count": 54,
      "outputs": []
    },
    {
      "cell_type": "code",
      "source": [
        "print(pd.DataFrame(upsampled_pred_proba))"
      ],
      "metadata": {
        "colab": {
          "base_uri": "https://localhost:8080/"
        },
        "id": "C62t2ukhzZiV",
        "outputId": "38a69ae2-fa5a-4b0f-abec-1b977c704607"
      },
      "execution_count": 55,
      "outputs": [
        {
          "output_type": "stream",
          "name": "stdout",
          "text": [
            "             0         1\n",
            "0     0.995862  0.004138\n",
            "1     0.638064  0.361936\n",
            "2     0.934278  0.065722\n",
            "3     0.958046  0.041954\n",
            "4     0.980507  0.019493\n",
            "...        ...       ...\n",
            "7995  0.738240  0.261760\n",
            "7996  0.877079  0.122921\n",
            "7997  0.929283  0.070717\n",
            "7998  0.911778  0.088222\n",
            "7999  0.688855  0.311145\n",
            "\n",
            "[8000 rows x 2 columns]\n"
          ]
        }
      ]
    },
    {
      "cell_type": "markdown",
      "source": [
        "###**Decision Tree (Upsampling)**"
      ],
      "metadata": {
        "id": "tDFTPJ18fKzx"
      }
    },
    {
      "cell_type": "code",
      "source": [
        "upsampled_dt = DecisionTreeClassifier(criterion='entropy', max_depth=6,min_samples_split= 2, splitter=\"random\", random_state=0)\n",
        "upsampled_dt.fit(X_train, y_train)\n",
        "\n",
        "upsampled_pred_dt = upsampled_dt.predict(X_test)"
      ],
      "metadata": {
        "id": "ADtpIcrtfU9r"
      },
      "execution_count": 56,
      "outputs": []
    },
    {
      "cell_type": "code",
      "source": [
        "print('Accuracy score: {:.2f} %'.format(accuracy_score(y_test, upsampled_pred_dt)*100))"
      ],
      "metadata": {
        "colab": {
          "base_uri": "https://localhost:8080/"
        },
        "outputId": "70afaa28-a0b2-429b-bda0-d2155c452683",
        "id": "qwNNsnHKfU90"
      },
      "execution_count": 57,
      "outputs": [
        {
          "output_type": "stream",
          "name": "stdout",
          "text": [
            "Accuracy score: 79.64 %\n"
          ]
        }
      ]
    },
    {
      "cell_type": "code",
      "source": [
        "print('F1 score: {:.2f} %'.format(f1_score(y_test, upsampled_pred_dt)*100))"
      ],
      "metadata": {
        "colab": {
          "base_uri": "https://localhost:8080/"
        },
        "outputId": "5606ee53-7056-445b-a07d-a35400fb0a4f",
        "id": "uCFH2MWkffNY"
      },
      "execution_count": 58,
      "outputs": [
        {
          "output_type": "stream",
          "name": "stdout",
          "text": [
            "F1 score: 39.10 %\n"
          ]
        }
      ]
    },
    {
      "cell_type": "code",
      "source": [
        "print(pd.DataFrame(confusion_matrix(y_test,upsampled_pred_dt)))"
      ],
      "metadata": {
        "colab": {
          "base_uri": "https://localhost:8080/"
        },
        "outputId": "0539e548-4b8c-45e8-f45f-ae294134745f",
        "id": "aZcOnYutffNZ"
      },
      "execution_count": 59,
      "outputs": [
        {
          "output_type": "stream",
          "name": "stdout",
          "text": [
            "      0     1\n",
            "0  5848  1587\n",
            "1    42   523\n"
          ]
        }
      ]
    },
    {
      "cell_type": "code",
      "source": [
        "print('Recall score: {:.2f} %'.format(recall_score(y_test, upsampled_pred_dt)*100))"
      ],
      "metadata": {
        "colab": {
          "base_uri": "https://localhost:8080/"
        },
        "outputId": "f93e94ee-8edc-49ea-c70e-dc29a3b43042",
        "id": "xxLK1UziffNZ"
      },
      "execution_count": 60,
      "outputs": [
        {
          "output_type": "stream",
          "name": "stdout",
          "text": [
            "Recall score: 92.57 %\n"
          ]
        }
      ]
    },
    {
      "cell_type": "code",
      "source": [
        "upsampled_pred_proba_dt = upsampled_dt.predict_proba(X_test)"
      ],
      "metadata": {
        "id": "D2RD4GKjffNZ"
      },
      "execution_count": 61,
      "outputs": []
    },
    {
      "cell_type": "code",
      "source": [
        "print(pd.DataFrame(upsampled_pred_proba_dt))"
      ],
      "metadata": {
        "colab": {
          "base_uri": "https://localhost:8080/"
        },
        "outputId": "ad36e0fd-f058-4cd1-838e-4ce392f8ed7a",
        "id": "c4Hrj-V9ffNZ"
      },
      "execution_count": 62,
      "outputs": [
        {
          "output_type": "stream",
          "name": "stdout",
          "text": [
            "             0         1\n",
            "0     0.993014  0.006986\n",
            "1     0.178448  0.821552\n",
            "2     0.988471  0.011529\n",
            "3     0.782875  0.217125\n",
            "4     0.959938  0.040062\n",
            "...        ...       ...\n",
            "7995  0.782875  0.217125\n",
            "7996  0.987697  0.012303\n",
            "7997  0.987697  0.012303\n",
            "7998  1.000000  0.000000\n",
            "7999  0.782875  0.217125\n",
            "\n",
            "[8000 rows x 2 columns]\n"
          ]
        }
      ]
    },
    {
      "cell_type": "markdown",
      "source": [
        "###**Random Forest (Upsampling)**"
      ],
      "metadata": {
        "id": "MEna3wJj1lgd"
      }
    },
    {
      "cell_type": "code",
      "source": [
        "upsampled_rfc = RandomForestClassifier(n_estimators=30, criterion='entropy', max_depth=14, min_samples_split=8, random_state=0)\n",
        "upsampled_rfc.fit(X_train, y_train)\n",
        "\n",
        "upsampled_pred_rfc = upsampled_rfc.predict(X_test)"
      ],
      "metadata": {
        "id": "xKlLFgUX1vPZ"
      },
      "execution_count": 63,
      "outputs": []
    },
    {
      "cell_type": "code",
      "source": [
        "print('Accuracy score: {:.2f} %'.format(accuracy_score(y_test, upsampled_pred_rfc)*100))"
      ],
      "metadata": {
        "colab": {
          "base_uri": "https://localhost:8080/"
        },
        "id": "sVRkMUbZ2JSL",
        "outputId": "6ef4d085-ada8-47f1-cec4-2cd41f2d1fe3"
      },
      "execution_count": 64,
      "outputs": [
        {
          "output_type": "stream",
          "name": "stdout",
          "text": [
            "Accuracy score: 92.03 %\n"
          ]
        }
      ]
    },
    {
      "cell_type": "code",
      "source": [
        "print('F1 score: {:.2f} %'.format(f1_score(y_test, upsampled_pred_rfc)*100))"
      ],
      "metadata": {
        "colab": {
          "base_uri": "https://localhost:8080/"
        },
        "id": "8b8S8uS72O96",
        "outputId": "acf8a75f-8244-4480-cbe8-5c5727986c39"
      },
      "execution_count": 65,
      "outputs": [
        {
          "output_type": "stream",
          "name": "stdout",
          "text": [
            "F1 score: 63.50 %\n"
          ]
        }
      ]
    },
    {
      "cell_type": "code",
      "source": [
        "print(pd.DataFrame(confusion_matrix(y_test,upsampled_pred_rfc)))"
      ],
      "metadata": {
        "colab": {
          "base_uri": "https://localhost:8080/"
        },
        "id": "Dm43qCRx2SvL",
        "outputId": "110c2476-04df-4340-e20c-be4fae4d5f9d"
      },
      "execution_count": 66,
      "outputs": [
        {
          "output_type": "stream",
          "name": "stdout",
          "text": [
            "      0    1\n",
            "0  6807  628\n",
            "1    10  555\n"
          ]
        }
      ]
    },
    {
      "cell_type": "code",
      "source": [
        "print('Recall score: {:.2f} %'.format(recall_score(y_test, upsampled_pred_rfc)*100))"
      ],
      "metadata": {
        "colab": {
          "base_uri": "https://localhost:8080/"
        },
        "id": "wUuxfQ9s2U3H",
        "outputId": "7baef846-4380-48cf-eca4-2d6adf480ec6"
      },
      "execution_count": 67,
      "outputs": [
        {
          "output_type": "stream",
          "name": "stdout",
          "text": [
            "Recall score: 98.23 %\n"
          ]
        }
      ]
    },
    {
      "cell_type": "code",
      "source": [
        "upsampled_pred_proba_rfc = upsampled_rfc.predict_proba(X_test)"
      ],
      "metadata": {
        "id": "juxMF3JV2ZIP"
      },
      "execution_count": 68,
      "outputs": []
    },
    {
      "cell_type": "code",
      "source": [
        "print(pd.DataFrame(upsampled_pred_proba_rfc))"
      ],
      "metadata": {
        "colab": {
          "base_uri": "https://localhost:8080/"
        },
        "id": "SA60G6ST2Z5v",
        "outputId": "9ecb4ce7-8ae7-401c-b110-35b9e354a7f1"
      },
      "execution_count": 69,
      "outputs": [
        {
          "output_type": "stream",
          "name": "stdout",
          "text": [
            "             0         1\n",
            "0     0.989942  0.010058\n",
            "1     0.519093  0.480907\n",
            "2     0.929274  0.070726\n",
            "3     0.983352  0.016648\n",
            "4     0.976780  0.023220\n",
            "...        ...       ...\n",
            "7995  0.739718  0.260282\n",
            "7996  0.894933  0.105067\n",
            "7997  0.910906  0.089094\n",
            "7998  0.954486  0.045514\n",
            "7999  0.824434  0.175566\n",
            "\n",
            "[8000 rows x 2 columns]\n"
          ]
        }
      ]
    },
    {
      "cell_type": "markdown",
      "source": [
        "###**SVM Classifier (Upsampling)**"
      ],
      "metadata": {
        "id": "n-k_Abdlc2DP"
      }
    },
    {
      "cell_type": "code",
      "source": [
        "sv = SVC(kernel=\"rbf\", random_state=0)\n",
        "sv.fit(X_train,y_train)\n",
        "\n",
        "y_pred_sv = sv.predict(X_test)"
      ],
      "metadata": {
        "id": "oqkeTag7dBaO"
      },
      "execution_count": 70,
      "outputs": []
    },
    {
      "cell_type": "code",
      "source": [
        "print('Accuracy score: {:.2f} %'.format(accuracy_score(y_test, y_pred_sv)*100))"
      ],
      "metadata": {
        "colab": {
          "base_uri": "https://localhost:8080/"
        },
        "id": "-2vw-qJwdEpF",
        "outputId": "57bc7dd4-55cb-439f-a5e7-a3f8353dad14"
      },
      "execution_count": 71,
      "outputs": [
        {
          "output_type": "stream",
          "name": "stdout",
          "text": [
            "Accuracy score: 83.76 %\n"
          ]
        }
      ]
    },
    {
      "cell_type": "code",
      "source": [
        "print('F1 score: {:.2f} %'.format(f1_score(y_test, y_pred_sv)*100))"
      ],
      "metadata": {
        "colab": {
          "base_uri": "https://localhost:8080/"
        },
        "id": "LQy6SBXndHz0",
        "outputId": "25bbe160-21e7-477d-954a-0057eb4e74e7"
      },
      "execution_count": 72,
      "outputs": [
        {
          "output_type": "stream",
          "name": "stdout",
          "text": [
            "F1 score: 39.33 %\n"
          ]
        }
      ]
    },
    {
      "cell_type": "code",
      "source": [
        "print(pd.DataFrame(confusion_matrix(y_test,y_pred_sv)))"
      ],
      "metadata": {
        "colab": {
          "base_uri": "https://localhost:8080/"
        },
        "id": "V6P76mRldLFx",
        "outputId": "592c16bf-07d8-4023-dcfb-8c0eb82b7055"
      },
      "execution_count": 73,
      "outputs": [
        {
          "output_type": "stream",
          "name": "stdout",
          "text": [
            "      0     1\n",
            "0  6280  1155\n",
            "1   144   421\n"
          ]
        }
      ]
    },
    {
      "cell_type": "code",
      "source": [
        "print('Recall score: {:.2f} %'.format(recall_score(y_test, y_pred_sv)*100))"
      ],
      "metadata": {
        "colab": {
          "base_uri": "https://localhost:8080/"
        },
        "id": "YnNinaEndNgy",
        "outputId": "7d53916e-4473-40d5-8b8c-970616c11d02"
      },
      "execution_count": 74,
      "outputs": [
        {
          "output_type": "stream",
          "name": "stdout",
          "text": [
            "Recall score: 74.51 %\n"
          ]
        }
      ]
    },
    {
      "cell_type": "code",
      "source": [
        "upsampled_pred_proba_sv = sv.predict_proba(X_test)"
      ],
      "metadata": {
        "colab": {
          "base_uri": "https://localhost:8080/",
          "height": 318
        },
        "id": "twOk8nOodQ1J",
        "outputId": "c9ade508-d82f-4952-b717-68d372ec58d0"
      },
      "execution_count": 75,
      "outputs": [
        {
          "output_type": "error",
          "ename": "AttributeError",
          "evalue": "ignored",
          "traceback": [
            "\u001b[0;31m---------------------------------------------------------------------------\u001b[0m",
            "\u001b[0;31mAttributeError\u001b[0m                            Traceback (most recent call last)",
            "\u001b[0;32m<ipython-input-75-8071d6c82123>\u001b[0m in \u001b[0;36m<cell line: 1>\u001b[0;34m()\u001b[0m\n\u001b[0;32m----> 1\u001b[0;31m \u001b[0mupsampled_pred_proba_sv\u001b[0m \u001b[0;34m=\u001b[0m \u001b[0msv\u001b[0m\u001b[0;34m.\u001b[0m\u001b[0mpredict_proba\u001b[0m\u001b[0;34m(\u001b[0m\u001b[0mX_test\u001b[0m\u001b[0;34m)\u001b[0m\u001b[0;34m\u001b[0m\u001b[0;34m\u001b[0m\u001b[0m\n\u001b[0m",
            "\u001b[0;32m/usr/local/lib/python3.10/dist-packages/sklearn/utils/_available_if.py\u001b[0m in \u001b[0;36m__get__\u001b[0;34m(self, obj, owner)\u001b[0m\n\u001b[1;32m     30\u001b[0m             \u001b[0;31m# delegate only on instances, not the classes.\u001b[0m\u001b[0;34m\u001b[0m\u001b[0;34m\u001b[0m\u001b[0m\n\u001b[1;32m     31\u001b[0m             \u001b[0;31m# this is to allow access to the docstrings.\u001b[0m\u001b[0;34m\u001b[0m\u001b[0;34m\u001b[0m\u001b[0m\n\u001b[0;32m---> 32\u001b[0;31m             \u001b[0;32mif\u001b[0m \u001b[0;32mnot\u001b[0m \u001b[0mself\u001b[0m\u001b[0;34m.\u001b[0m\u001b[0mcheck\u001b[0m\u001b[0;34m(\u001b[0m\u001b[0mobj\u001b[0m\u001b[0;34m)\u001b[0m\u001b[0;34m:\u001b[0m\u001b[0;34m\u001b[0m\u001b[0;34m\u001b[0m\u001b[0m\n\u001b[0m\u001b[1;32m     33\u001b[0m                 \u001b[0;32mraise\u001b[0m \u001b[0mattr_err\u001b[0m\u001b[0;34m\u001b[0m\u001b[0;34m\u001b[0m\u001b[0m\n\u001b[1;32m     34\u001b[0m             \u001b[0mout\u001b[0m \u001b[0;34m=\u001b[0m \u001b[0mMethodType\u001b[0m\u001b[0;34m(\u001b[0m\u001b[0mself\u001b[0m\u001b[0;34m.\u001b[0m\u001b[0mfn\u001b[0m\u001b[0;34m,\u001b[0m \u001b[0mobj\u001b[0m\u001b[0;34m)\u001b[0m\u001b[0;34m\u001b[0m\u001b[0;34m\u001b[0m\u001b[0m\n",
            "\u001b[0;32m/usr/local/lib/python3.10/dist-packages/sklearn/svm/_base.py\u001b[0m in \u001b[0;36m_check_proba\u001b[0;34m(self)\u001b[0m\n\u001b[1;32m    827\u001b[0m     \u001b[0;32mdef\u001b[0m \u001b[0m_check_proba\u001b[0m\u001b[0;34m(\u001b[0m\u001b[0mself\u001b[0m\u001b[0;34m)\u001b[0m\u001b[0;34m:\u001b[0m\u001b[0;34m\u001b[0m\u001b[0;34m\u001b[0m\u001b[0m\n\u001b[1;32m    828\u001b[0m         \u001b[0;32mif\u001b[0m \u001b[0;32mnot\u001b[0m \u001b[0mself\u001b[0m\u001b[0;34m.\u001b[0m\u001b[0mprobability\u001b[0m\u001b[0;34m:\u001b[0m\u001b[0;34m\u001b[0m\u001b[0;34m\u001b[0m\u001b[0m\n\u001b[0;32m--> 829\u001b[0;31m             raise AttributeError(\n\u001b[0m\u001b[1;32m    830\u001b[0m                 \u001b[0;34m\"predict_proba is not available when  probability=False\"\u001b[0m\u001b[0;34m\u001b[0m\u001b[0;34m\u001b[0m\u001b[0m\n\u001b[1;32m    831\u001b[0m             )\n",
            "\u001b[0;31mAttributeError\u001b[0m: predict_proba is not available when  probability=False"
          ]
        }
      ]
    },
    {
      "cell_type": "code",
      "source": [
        "print(pd.DataFrame(upsampled_pred_proba_sv))"
      ],
      "metadata": {
        "id": "lddD4ZnCdTe6"
      },
      "execution_count": null,
      "outputs": []
    },
    {
      "cell_type": "markdown",
      "source": [
        "###**XGBoost Classifier (Upsampling)**"
      ],
      "metadata": {
        "id": "QzCQcVHO3znL"
      }
    },
    {
      "cell_type": "code",
      "source": [
        "xg = XGBClassifier()\n",
        "xg.fit(X_train,y_train)\n",
        "\n",
        "y_pred_xg = xg.predict(X_test)"
      ],
      "metadata": {
        "id": "KYrQ9JVl3iOl"
      },
      "execution_count": null,
      "outputs": []
    },
    {
      "cell_type": "code",
      "source": [
        "print('Accuracy score: {:.2f} %'.format(accuracy_score(y_test, y_pred_xg)*100))"
      ],
      "metadata": {
        "id": "I7XJIUug34X4"
      },
      "execution_count": null,
      "outputs": []
    },
    {
      "cell_type": "code",
      "source": [
        "print('F1 score: {:.2f} %'.format(f1_score(y_test, y_pred_xg)*100))"
      ],
      "metadata": {
        "id": "u4thYAmZ39NH"
      },
      "execution_count": null,
      "outputs": []
    },
    {
      "cell_type": "code",
      "source": [
        "print(pd.DataFrame(confusion_matrix(y_test,y_pred_xg)))"
      ],
      "metadata": {
        "id": "Ef56U318390K"
      },
      "execution_count": null,
      "outputs": []
    },
    {
      "cell_type": "code",
      "source": [
        "upsampled_pred_proba_xg = xg.predict_proba(X_test)"
      ],
      "metadata": {
        "id": "FpCrK-eAAAvP"
      },
      "execution_count": null,
      "outputs": []
    },
    {
      "cell_type": "code",
      "source": [
        "print(pd.DataFrame(upsampled_pred_proba_xg))"
      ],
      "metadata": {
        "id": "kyXVphNSABvJ"
      },
      "execution_count": null,
      "outputs": []
    },
    {
      "cell_type": "markdown",
      "source": [
        "#**Cross Vaidation using GridSearch**"
      ],
      "metadata": {
        "id": "niR6qQGLC2aU"
      }
    },
    {
      "cell_type": "markdown",
      "source": [
        "##**Logistic Regression Upsampling Cross Validation**"
      ],
      "metadata": {
        "id": "oc3ntV7Px9Sb"
      }
    },
    {
      "cell_type": "code",
      "source": [
        "params = {'C':[0.1,0.01,0.02,0.3,0.0015,1], 'solver':[\"lbfgs\", \"liblinear\", \"newton-cg\", \"newton-cholesky\", \"sag\", \"saga\"]}\n",
        "grid_search_Ulg = GridSearchCV(estimator= upsampled, param_grid=params, cv= 5 , scoring='f1', n_jobs = -1)\n",
        "grid_search_Ulg.fit(X_train, y_train)\n",
        "best_accuracy_Ulg = grid_search_Ulg.best_score_\n",
        "best_params_Ulg = grid_search_Ulg.best_params_\n",
        "print(\"Best F1_Score for Upsampling Logistisc regression: {:.2f}%\".format(best_accuracy_Ulg*100))\n",
        "print(\"Best params for Upsampling Logistisc regression: \",best_params_Ulg)"
      ],
      "metadata": {
        "id": "YNQGm-wXo3wh"
      },
      "execution_count": null,
      "outputs": []
    },
    {
      "cell_type": "code",
      "source": [
        "accuracies_Ulg = cross_val_score(estimator = upsampled, X = X_train, y = y_train, cv = 5)\n",
        "print(\"Upsampled Logistic Regression Accuracy: {:.2f} %\".format(accuracies_Ulg.mean()*100))\n",
        "print(\"Upsampled Logistic Regression Standard Deviation: {:.2f} %\".format(accuracies_Ulg.std()*100))"
      ],
      "metadata": {
        "id": "VC3OylpMrvMM"
      },
      "execution_count": null,
      "outputs": []
    },
    {
      "cell_type": "markdown",
      "source": [
        "##**DecisionTree Upsampling Cross Validation**"
      ],
      "metadata": {
        "id": "V9NHnbEzgHH3"
      }
    },
    {
      "cell_type": "code",
      "source": [
        "params = {'max_depth': [4,5,6,7,8,9,10,12,14,20,50], 'criterion':['entropy','gini'], 'splitter':[\"random\",\"best\"], 'min_samples_split':[2,4,6,8,10,12]}\n",
        "grid_search_dt = GridSearchCV(estimator= upsampled_dt, param_grid=params, cv= 5 , scoring='f1', n_jobs = -1)\n",
        "grid_search_dt.fit(X_train, y_train)\n",
        "best_accuracy_dt = grid_search_dt.best_score_\n",
        "best_params_dt = grid_search_dt.best_params_\n",
        "print(\"Best Accuracy for DecisionTree: {:.2f}%\".format(best_accuracy_dt*100))\n",
        "print(\"Best params for DecisionTree: \",best_params_dt)"
      ],
      "metadata": {
        "id": "z7DXiX5BgLhA"
      },
      "execution_count": null,
      "outputs": []
    },
    {
      "cell_type": "code",
      "source": [
        "accuracies_Udt = cross_val_score(estimator = upsampled_dt, X = X_train, y = y_train, cv = 5)\n",
        "print(\"Upsampled DecisionTree Accuracy: {:.2f} %\".format(accuracies_Udt.mean()*100))\n",
        "print(\"Upsampled DecisionTree Standard Deviation: {:.2f} %\".format(accuracies_Udt.std()*100))"
      ],
      "metadata": {
        "id": "qGcQNijCgYQM"
      },
      "execution_count": null,
      "outputs": []
    },
    {
      "cell_type": "markdown",
      "source": [
        "##**RandomForest Upsampling Cross Validation**"
      ],
      "metadata": {
        "id": "4IWjGaHqyEJi"
      }
    },
    {
      "cell_type": "code",
      "source": [
        "params = {'n_estimators': [10, 20, 25, 50, 100], 'max_depth': [4,5,6,7,8,9,10,12,14,20,50], 'criterion':['entropy','gini'], 'min_samples_split':[2,4,6,8,10,12]}\n",
        "grid_search_rd = GridSearchCV(estimator= upsampled_rfc, param_grid=params, cv= 5 , scoring='f1', n_jobs = -1)\n",
        "grid_search_rd.fit(X_train, y_train)\n",
        "best_accuracy_rd = grid_search_rd.best_score_\n",
        "best_params_rd = grid_search_rd.best_params_\n",
        "print(\"Best Accuracy for RandomForest: {:.2f}%\".format(best_accuracy_rd*100))\n",
        "print(\"Best params for RandomForest: \",best_params_rd)"
      ],
      "metadata": {
        "id": "9KQ4tNcM1d_E"
      },
      "execution_count": null,
      "outputs": []
    },
    {
      "cell_type": "code",
      "source": [
        "accuracies_Urfc = cross_val_score(estimator = upsampled_rfc, X = X_train, y = y_train, cv = 5)\n",
        "print(\"Upsampled Random Forest Accuracy: {:.2f} %\".format(accuracies_Urfc.mean()*100))\n",
        "print(\"Upsampled Random Forest Standard Deviation: {:.2f} %\".format(accuracies_Urfc.std()*100))"
      ],
      "metadata": {
        "id": "cug2zOW23PjM"
      },
      "execution_count": null,
      "outputs": []
    },
    {
      "cell_type": "markdown",
      "source": [
        "##**SVC Upsampling Cross Validation**"
      ],
      "metadata": {
        "id": "vnE9-wsMbEMm"
      }
    },
    {
      "cell_type": "code",
      "source": [
        "params = {'kernel': [\"linear\",\"poly\", \"rbf\", \"sigmoid\"],'gamma':[\"scale\"], 'decision_function_shape' : [\"ovo\"]}\n",
        "grid_search_sv = GridSearchCV(estimator= sv, param_grid=params, cv= 5 , scoring='f1', n_jobs = -1)\n",
        "grid_search_sv.fit(X_train, y_train)\n",
        "best_accuracy_sv = grid_search_sv.best_score_\n",
        "best_params_sv = grid_search_sv.best_params_\n",
        "print(\"Best Accuracy for SVM: {:.2f}%\".format(best_accuracy_sv*100))\n",
        "print(\"Best params for SVM: \",best_params_sv)"
      ],
      "metadata": {
        "id": "r2KX5dGKbW28"
      },
      "execution_count": null,
      "outputs": []
    },
    {
      "cell_type": "code",
      "source": [
        "accuracies_Usv = cross_val_score(estimator = sv, X = X_train, y = y_train, cv = 5)\n",
        "print(\"Upsampled SVM Accuracy: {:.2f} %\".format(accuracies_Usv.mean()*100))\n",
        "print(\"Upsampled SVM Standard Deviation: {:.2f} %\".format(accuracies_Usv.std()*100))"
      ],
      "metadata": {
        "id": "_CJ1Aux8g6Q_"
      },
      "execution_count": null,
      "outputs": []
    },
    {
      "cell_type": "markdown",
      "source": [
        "##**Weighting**"
      ],
      "metadata": {
        "id": "WawYL_sZg9Bh"
      }
    },
    {
      "cell_type": "code",
      "source": [
        "model = ExtraTreesClassifier(n_estimators=10)\n",
        "model.fit(X_train, y_train)\n",
        "print(model.feature_importances_)"
      ],
      "metadata": {
        "id": "eoh_kj1B7ekU"
      },
      "execution_count": null,
      "outputs": []
    }
  ]
}